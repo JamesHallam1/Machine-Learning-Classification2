{
 "cells": [
  {
   "cell_type": "code",
   "execution_count": 215,
   "metadata": {},
   "outputs": [],
   "source": [
    "%matplotlib inline\n",
    "import numpy as np\n",
    "import matplotlib.pyplot as plt\n",
    "import pandas as pd\n",
    "import seaborn as sns\n",
    "plt.style.use(\"seaborn\")\n",
    "import tensorflow as tf\n",
    "from tensorflow import keras\n",
    "import sklearn"
   ]
  },
  {
   "cell_type": "code",
   "execution_count": 216,
   "metadata": {},
   "outputs": [],
   "source": [
    "from sklearn.model_selection import train_test_split\n",
    "from sklearn.model_selection import KFold\n",
    "from sklearn.model_selection import cross_val_score\n",
    "from sklearn.model_selection import GridSearchCV\n",
    "from sklearn.linear_model import LogisticRegression \n",
    "from sklearn import metrics \n",
    "from sklearn.preprocessing import LabelEncoder\n",
    "from sklearn.preprocessing import StandardScaler\n",
    "from sklearn.decomposition import PCA\n",
    "from sklearn.discriminant_analysis import LinearDiscriminantAnalysis as LDA\n",
    "from sklearn import tree\n",
    "from sklearn.tree import DecisionTreeClassifier\n",
    "from sklearn.tree import export_graphviz \n",
    "from IPython.display import Image\n",
    "from sklearn.ensemble import RandomForestClassifier \n",
    "from sklearn.metrics import classification_report\n",
    "from sklearn.ensemble import GradientBoostingClassifier\n",
    "from xgboost import XGBClassifier\n",
    "from xgboost import plot_importance\n",
    "from sklearn import svm\n",
    "from sklearn.svm import SVC\n",
    "from sklearn import model_selection\n",
    "from numpy import loadtxt\n",
    "from keras.models import Sequential\n",
    "from keras.layers import Dense\n",
    "from keras.wrappers.scikit_learn import KerasClassifier\n",
    "from keras.layers import Dropout\n",
    "from tensorflow.keras.utils import to_categorical"
   ]
  },
  {
   "cell_type": "code",
   "execution_count": 217,
   "metadata": {},
   "outputs": [
    {
     "data": {
      "text/html": [
       "<div>\n",
       "<style scoped>\n",
       "    .dataframe tbody tr th:only-of-type {\n",
       "        vertical-align: middle;\n",
       "    }\n",
       "\n",
       "    .dataframe tbody tr th {\n",
       "        vertical-align: top;\n",
       "    }\n",
       "\n",
       "    .dataframe thead th {\n",
       "        text-align: right;\n",
       "    }\n",
       "</style>\n",
       "<table border=\"1\" class=\"dataframe\">\n",
       "  <thead>\n",
       "    <tr style=\"text-align: right;\">\n",
       "      <th></th>\n",
       "      <th>Length</th>\n",
       "      <th>Width</th>\n",
       "      <th>Size</th>\n",
       "      <th>Conc</th>\n",
       "      <th>Conc1</th>\n",
       "      <th>Asym</th>\n",
       "      <th>M3Long</th>\n",
       "      <th>M3Trans</th>\n",
       "      <th>Alpha</th>\n",
       "      <th>Dist</th>\n",
       "      <th>class</th>\n",
       "    </tr>\n",
       "  </thead>\n",
       "  <tbody>\n",
       "    <tr>\n",
       "      <th>0</th>\n",
       "      <td>78.5819</td>\n",
       "      <td>20.0958</td>\n",
       "      <td>3.0137</td>\n",
       "      <td>0.1531</td>\n",
       "      <td>0.0790</td>\n",
       "      <td>13.8150</td>\n",
       "      <td>62.8954</td>\n",
       "      <td>-11.0144</td>\n",
       "      <td>4.0670</td>\n",
       "      <td>199.8640</td>\n",
       "      <td>0</td>\n",
       "    </tr>\n",
       "    <tr>\n",
       "      <th>1</th>\n",
       "      <td>44.7025</td>\n",
       "      <td>17.2750</td>\n",
       "      <td>2.8820</td>\n",
       "      <td>0.3005</td>\n",
       "      <td>0.1568</td>\n",
       "      <td>39.1008</td>\n",
       "      <td>31.9774</td>\n",
       "      <td>15.3809</td>\n",
       "      <td>14.5058</td>\n",
       "      <td>177.1620</td>\n",
       "      <td>0</td>\n",
       "    </tr>\n",
       "    <tr>\n",
       "      <th>2</th>\n",
       "      <td>53.3458</td>\n",
       "      <td>10.3460</td>\n",
       "      <td>2.5347</td>\n",
       "      <td>0.5577</td>\n",
       "      <td>0.3285</td>\n",
       "      <td>-61.4294</td>\n",
       "      <td>-29.9526</td>\n",
       "      <td>-5.2151</td>\n",
       "      <td>7.4932</td>\n",
       "      <td>300.9070</td>\n",
       "      <td>0</td>\n",
       "    </tr>\n",
       "    <tr>\n",
       "      <th>3</th>\n",
       "      <td>38.5054</td>\n",
       "      <td>20.5728</td>\n",
       "      <td>3.0434</td>\n",
       "      <td>0.2371</td>\n",
       "      <td>0.1235</td>\n",
       "      <td>-10.5779</td>\n",
       "      <td>28.6940</td>\n",
       "      <td>-8.6808</td>\n",
       "      <td>18.3976</td>\n",
       "      <td>146.3720</td>\n",
       "      <td>0</td>\n",
       "    </tr>\n",
       "    <tr>\n",
       "      <th>4</th>\n",
       "      <td>12.8950</td>\n",
       "      <td>11.2392</td>\n",
       "      <td>2.1477</td>\n",
       "      <td>0.7260</td>\n",
       "      <td>0.4377</td>\n",
       "      <td>14.5944</td>\n",
       "      <td>-8.0421</td>\n",
       "      <td>6.6514</td>\n",
       "      <td>80.9568</td>\n",
       "      <td>150.9220</td>\n",
       "      <td>0</td>\n",
       "    </tr>\n",
       "    <tr>\n",
       "      <th>...</th>\n",
       "      <td>...</td>\n",
       "      <td>...</td>\n",
       "      <td>...</td>\n",
       "      <td>...</td>\n",
       "      <td>...</td>\n",
       "      <td>...</td>\n",
       "      <td>...</td>\n",
       "      <td>...</td>\n",
       "      <td>...</td>\n",
       "      <td>...</td>\n",
       "      <td>...</td>\n",
       "    </tr>\n",
       "    <tr>\n",
       "      <th>9995</th>\n",
       "      <td>20.4074</td>\n",
       "      <td>8.6738</td>\n",
       "      <td>2.0779</td>\n",
       "      <td>0.7406</td>\n",
       "      <td>0.4451</td>\n",
       "      <td>-21.2419</td>\n",
       "      <td>20.2151</td>\n",
       "      <td>-8.2311</td>\n",
       "      <td>36.9080</td>\n",
       "      <td>221.4876</td>\n",
       "      <td>1</td>\n",
       "    </tr>\n",
       "    <tr>\n",
       "      <th>9996</th>\n",
       "      <td>15.5072</td>\n",
       "      <td>6.8242</td>\n",
       "      <td>2.4829</td>\n",
       "      <td>0.6901</td>\n",
       "      <td>0.3586</td>\n",
       "      <td>5.4648</td>\n",
       "      <td>9.3832</td>\n",
       "      <td>-8.8667</td>\n",
       "      <td>57.2055</td>\n",
       "      <td>221.0643</td>\n",
       "      <td>1</td>\n",
       "    </tr>\n",
       "    <tr>\n",
       "      <th>9997</th>\n",
       "      <td>30.1788</td>\n",
       "      <td>10.6125</td>\n",
       "      <td>2.4771</td>\n",
       "      <td>0.4600</td>\n",
       "      <td>0.2383</td>\n",
       "      <td>23.7772</td>\n",
       "      <td>16.4568</td>\n",
       "      <td>-8.6961</td>\n",
       "      <td>80.6957</td>\n",
       "      <td>156.6080</td>\n",
       "      <td>1</td>\n",
       "    </tr>\n",
       "    <tr>\n",
       "      <th>9998</th>\n",
       "      <td>101.4200</td>\n",
       "      <td>18.7524</td>\n",
       "      <td>3.1920</td>\n",
       "      <td>0.1748</td>\n",
       "      <td>0.0993</td>\n",
       "      <td>49.1508</td>\n",
       "      <td>23.7505</td>\n",
       "      <td>10.9015</td>\n",
       "      <td>71.0938</td>\n",
       "      <td>249.6320</td>\n",
       "      <td>1</td>\n",
       "    </tr>\n",
       "    <tr>\n",
       "      <th>9999</th>\n",
       "      <td>89.4076</td>\n",
       "      <td>27.2539</td>\n",
       "      <td>3.1149</td>\n",
       "      <td>0.1481</td>\n",
       "      <td>0.0741</td>\n",
       "      <td>-68.8599</td>\n",
       "      <td>-86.9093</td>\n",
       "      <td>-18.1134</td>\n",
       "      <td>61.1520</td>\n",
       "      <td>201.3850</td>\n",
       "      <td>1</td>\n",
       "    </tr>\n",
       "  </tbody>\n",
       "</table>\n",
       "<p>10000 rows × 11 columns</p>\n",
       "</div>"
      ],
      "text/plain": [
       "        Length    Width    Size    Conc   Conc1     Asym   M3Long  M3Trans  \\\n",
       "0      78.5819  20.0958  3.0137  0.1531  0.0790  13.8150  62.8954 -11.0144   \n",
       "1      44.7025  17.2750  2.8820  0.3005  0.1568  39.1008  31.9774  15.3809   \n",
       "2      53.3458  10.3460  2.5347  0.5577  0.3285 -61.4294 -29.9526  -5.2151   \n",
       "3      38.5054  20.5728  3.0434  0.2371  0.1235 -10.5779  28.6940  -8.6808   \n",
       "4      12.8950  11.2392  2.1477  0.7260  0.4377  14.5944  -8.0421   6.6514   \n",
       "...        ...      ...     ...     ...     ...      ...      ...      ...   \n",
       "9995   20.4074   8.6738  2.0779  0.7406  0.4451 -21.2419  20.2151  -8.2311   \n",
       "9996   15.5072   6.8242  2.4829  0.6901  0.3586   5.4648   9.3832  -8.8667   \n",
       "9997   30.1788  10.6125  2.4771  0.4600  0.2383  23.7772  16.4568  -8.6961   \n",
       "9998  101.4200  18.7524  3.1920  0.1748  0.0993  49.1508  23.7505  10.9015   \n",
       "9999   89.4076  27.2539  3.1149  0.1481  0.0741 -68.8599 -86.9093 -18.1134   \n",
       "\n",
       "        Alpha      Dist  class  \n",
       "0      4.0670  199.8640      0  \n",
       "1     14.5058  177.1620      0  \n",
       "2      7.4932  300.9070      0  \n",
       "3     18.3976  146.3720      0  \n",
       "4     80.9568  150.9220      0  \n",
       "...       ...       ...    ...  \n",
       "9995  36.9080  221.4876      1  \n",
       "9996  57.2055  221.0643      1  \n",
       "9997  80.6957  156.6080      1  \n",
       "9998  71.0938  249.6320      1  \n",
       "9999  61.1520  201.3850      1  \n",
       "\n",
       "[10000 rows x 11 columns]"
      ]
     },
     "execution_count": 217,
     "metadata": {},
     "output_type": "execute_result"
    }
   ],
   "source": [
    "data = pd.read_csv(\"gamma.csv\", converters={'class': lambda x: int(x == 'h')})\n",
    "data"
   ]
  },
  {
   "cell_type": "code",
   "execution_count": 218,
   "metadata": {},
   "outputs": [],
   "source": [
    "variables = [\"Length\",\"Width\",\"Size\",\"Conc\",\"Conc1\",\"Asym\",\"M3Long\",\"M3Trans\",\"Alpha\",\"Dist\"]\n",
    "X=data[variables]\n",
    "y=data[\"class\"]"
   ]
  },
  {
   "cell_type": "code",
   "execution_count": 219,
   "metadata": {},
   "outputs": [],
   "source": [
    "X_train,X_test,y_train,y_test=train_test_split(X,y,test_size=0.1)\n",
    "#X_val and y_val is used to tune the hyperparamters"
   ]
  },
  {
   "cell_type": "code",
   "execution_count": 220,
   "metadata": {},
   "outputs": [],
   "source": [
    "X2= X.values\n",
    "y1= y.values"
   ]
  },
  {
   "cell_type": "code",
   "execution_count": null,
   "metadata": {},
   "outputs": [],
   "source": []
  },
  {
   "cell_type": "code",
   "execution_count": 221,
   "metadata": {},
   "outputs": [],
   "source": [
    "#LOGISTIC REGRESSION"
   ]
  },
  {
   "cell_type": "code",
   "execution_count": 222,
   "metadata": {},
   "outputs": [],
   "source": [
    "X_lg = X_train\n",
    "y_lg = y_train"
   ]
  },
  {
   "cell_type": "code",
   "execution_count": 223,
   "metadata": {},
   "outputs": [
    {
     "data": {
      "text/plain": [
       "LogisticRegression(max_iter=5000)"
      ]
     },
     "execution_count": 223,
     "metadata": {},
     "output_type": "execute_result"
    }
   ],
   "source": [
    "logreg=LogisticRegression(max_iter=5000)\n",
    "logreg.fit(X_lg,y_lg)"
   ]
  },
  {
   "cell_type": "code",
   "execution_count": 224,
   "metadata": {
    "scrolled": true
   },
   "outputs": [
    {
     "data": {
      "text/plain": [
       "array([0, 0, 1, ..., 0, 0, 0])"
      ]
     },
     "execution_count": 224,
     "metadata": {},
     "output_type": "execute_result"
    }
   ],
   "source": [
    "y_pred=logreg.predict(X_lg)\n",
    "y_pred"
   ]
  },
  {
   "cell_type": "code",
   "execution_count": 225,
   "metadata": {},
   "outputs": [
    {
     "data": {
      "text/plain": [
       "0.7621111111111111"
      ]
     },
     "execution_count": 225,
     "metadata": {},
     "output_type": "execute_result"
    }
   ],
   "source": [
    "score=logreg.score(X_lg,y_lg)\n",
    "score"
   ]
  },
  {
   "cell_type": "code",
   "execution_count": 226,
   "metadata": {
    "scrolled": false
   },
   "outputs": [
    {
     "data": {
      "text/plain": [
       "array([[3663,  842],\n",
       "       [1299, 3196]])"
      ]
     },
     "execution_count": 226,
     "metadata": {},
     "output_type": "execute_result"
    }
   ],
   "source": [
    "cm=metrics.confusion_matrix(y_lg,y_pred) \n",
    "cm"
   ]
  },
  {
   "cell_type": "code",
   "execution_count": 227,
   "metadata": {},
   "outputs": [],
   "source": [
    "logreg=LogisticRegression(max_iter=5000)\n",
    "logreg.fit(X_lg,y_lg)\n",
    "y_pred2=logreg.predict(X_lg)"
   ]
  },
  {
   "cell_type": "code",
   "execution_count": 228,
   "metadata": {},
   "outputs": [
    {
     "data": {
      "text/plain": [
       "0.7621111111111111"
      ]
     },
     "execution_count": 228,
     "metadata": {},
     "output_type": "execute_result"
    }
   ],
   "source": [
    "accuracy=(cm[0,0]+cm[1,1])/(cm[0,0]+cm[0,1]+cm[1,0]+cm[1,1])\n",
    "accuracy"
   ]
  },
  {
   "cell_type": "code",
   "execution_count": 229,
   "metadata": {},
   "outputs": [
    {
     "data": {
      "text/plain": [
       "array([0.74888889, 0.74666667, 0.77333333, 0.76222222, 0.76777778,\n",
       "       0.77111111, 0.76333333, 0.77555556, 0.76      , 0.74888889])"
      ]
     },
     "execution_count": 229,
     "metadata": {},
     "output_type": "execute_result"
    }
   ],
   "source": [
    "kf=KFold(n_splits=10, shuffle=True)\n",
    "scores = cross_val_score(logreg, X_lg, y_lg, cv=kf)\n",
    "scores"
   ]
  },
  {
   "cell_type": "code",
   "execution_count": 230,
   "metadata": {},
   "outputs": [
    {
     "data": {
      "text/plain": [
       "(0.7466666666666667, 0.7617777777777779, 0.7755555555555556)"
      ]
     },
     "execution_count": 230,
     "metadata": {},
     "output_type": "execute_result"
    }
   ],
   "source": [
    "scores = pd.Series(scores)\n",
    "scores.min(), scores.mean(), scores.max()"
   ]
  },
  {
   "cell_type": "code",
   "execution_count": 231,
   "metadata": {},
   "outputs": [
    {
     "data": {
      "text/plain": [
       "0.757"
      ]
     },
     "execution_count": 231,
     "metadata": {},
     "output_type": "execute_result"
    }
   ],
   "source": [
    "logreg.score(X_test, y_test)"
   ]
  },
  {
   "cell_type": "code",
   "execution_count": null,
   "metadata": {},
   "outputs": [],
   "source": []
  },
  {
   "cell_type": "code",
   "execution_count": 232,
   "metadata": {},
   "outputs": [],
   "source": [
    "#DISCRIMINANT ANALYSIS"
   ]
  },
  {
   "cell_type": "code",
   "execution_count": 233,
   "metadata": {},
   "outputs": [],
   "source": [
    "X_da = X_train.values\n",
    "y_da = y_train.values"
   ]
  },
  {
   "cell_type": "code",
   "execution_count": 234,
   "metadata": {},
   "outputs": [],
   "source": [
    "X_da_test = X_test.values\n",
    "y_da_test = y_test.values"
   ]
  },
  {
   "cell_type": "code",
   "execution_count": 235,
   "metadata": {},
   "outputs": [
    {
     "data": {
      "text/plain": [
       "LinearDiscriminantAnalysis(store_covariance=True)"
      ]
     },
     "execution_count": 235,
     "metadata": {},
     "output_type": "execute_result"
    }
   ],
   "source": [
    "lda=LDA(store_covariance=True)\n",
    "lda.fit(X_da,y_da)"
   ]
  },
  {
   "cell_type": "code",
   "execution_count": 236,
   "metadata": {},
   "outputs": [
    {
     "data": {
      "text/plain": [
       "array([[ 1.29273281e-02],\n",
       "       [-3.02343815e-03],\n",
       "       [ 5.85197752e-01],\n",
       "       [-2.11655732e-01],\n",
       "       [ 3.91128767e+00],\n",
       "       [-4.11005660e-04],\n",
       "       [-1.98470486e-03],\n",
       "       [-4.15523348e-05],\n",
       "       [ 3.55318560e-02],\n",
       "       [ 1.51353338e-03]])"
      ]
     },
     "execution_count": 236,
     "metadata": {},
     "output_type": "execute_result"
    }
   ],
   "source": [
    "lda.scalings_"
   ]
  },
  {
   "cell_type": "code",
   "execution_count": 237,
   "metadata": {},
   "outputs": [
    {
     "data": {
      "text/plain": [
       "array([1.])"
      ]
     },
     "execution_count": 237,
     "metadata": {},
     "output_type": "execute_result"
    }
   ],
   "source": [
    "lda.explained_variance_ratio_"
   ]
  },
  {
   "cell_type": "code",
   "execution_count": 238,
   "metadata": {
    "scrolled": true
   },
   "outputs": [
    {
     "data": {
      "text/plain": [
       "array([[ 2.02992821e+03,  6.92340138e+02,  1.50692444e+01,\n",
       "        -5.47414893e+00, -3.18618487e+00, -1.06135794e+03,\n",
       "        -4.04580814e+02,  1.26992526e+01, -1.28268845e+02,\n",
       "         1.35944868e+03],\n",
       "       [ 6.92340138e+02,  4.11893408e+02,  6.94850650e+00,\n",
       "        -2.35879002e+00, -1.37612821e+00, -3.32164920e+02,\n",
       "        -2.24669117e+02,  1.75253973e+01, -1.21988569e+01,\n",
       "         5.28699159e+02],\n",
       "       [ 1.50692444e+01,  6.94850650e+00,  2.21014728e-01,\n",
       "        -7.37907392e-02, -4.28385352e-02, -5.75957181e+00,\n",
       "         4.16869401e-01,  1.87826217e-01, -2.30336085e+00,\n",
       "         1.55137760e+01],\n",
       "       [-5.47414893e+00, -2.35879002e+00, -7.37907392e-02,\n",
       "         3.40848780e-02,  2.02803742e-02,  1.73914512e+00,\n",
       "        -5.09447568e-01, -3.66783985e-02,  8.87666398e-01,\n",
       "        -4.52166479e+00],\n",
       "       [-3.18618487e+00, -1.37612821e+00, -4.28385352e-02,\n",
       "         2.02803742e-02,  1.26698103e-02,  9.78148153e-01,\n",
       "        -2.91867207e-01, -2.35775663e-02,  5.02911398e-01,\n",
       "        -2.56792850e+00],\n",
       "       [-1.06135794e+03, -3.32164920e+02, -5.75957181e+00,\n",
       "         1.73914512e+00,  9.78148153e-01,  4.26424300e+03,\n",
       "         9.16750261e+02,  2.42501821e+00,  6.23693992e+01,\n",
       "        -1.02416770e+03],\n",
       "       [-4.04580814e+02, -2.24669117e+02,  4.16869401e-01,\n",
       "        -5.09447568e-01, -2.91867207e-01,  9.16750261e+02,\n",
       "         3.06972477e+03, -4.38050754e+01, -1.03522724e+02,\n",
       "         2.82830383e+00],\n",
       "       [ 1.26992526e+01,  1.75253973e+01,  1.87826217e-01,\n",
       "        -3.66783985e-02, -2.35775663e-02,  2.42501821e+00,\n",
       "        -4.38050754e+01,  5.30269841e+02,  8.83503832e+00,\n",
       "         2.29227394e+01],\n",
       "       [-1.28268845e+02, -1.21988569e+01, -2.30336085e+00,\n",
       "         8.87666398e-01,  5.02911398e-01,  6.23693992e+01,\n",
       "        -1.03522724e+02,  8.83503832e+00,  5.72571598e+02,\n",
       "        -4.59590863e+02],\n",
       "       [ 1.35944868e+03,  5.28699159e+02,  1.55137760e+01,\n",
       "        -4.52166479e+00, -2.56792850e+00, -1.02416770e+03,\n",
       "         2.82830383e+00,  2.29227394e+01, -4.59590863e+02,\n",
       "         5.88529699e+03]])"
      ]
     },
     "execution_count": 238,
     "metadata": {},
     "output_type": "execute_result"
    }
   ],
   "source": [
    "lda.covariance_"
   ]
  },
  {
   "cell_type": "code",
   "execution_count": 239,
   "metadata": {
    "scrolled": true
   },
   "outputs": [
    {
     "data": {
      "text/plain": [
       "array([1, 0, 1, 1, 0, 0, 1, 0, 0, 1, 0, 0, 0, 0, 1, 0, 1, 1, 1, 1, 0, 1,\n",
       "       1, 1, 0, 0, 1, 1, 0, 0, 0, 1, 0, 1, 0, 0, 0, 0, 0, 0, 1, 1, 1, 1,\n",
       "       1, 1, 0, 0, 0, 0, 0, 1, 0, 1, 1, 1, 0, 1, 0, 0, 1, 0, 1, 1, 1, 0,\n",
       "       0, 0, 0, 0, 1, 0, 1, 0, 0, 1, 1, 0, 0, 0, 0, 0, 0, 0, 0, 1, 0, 1,\n",
       "       1, 0, 1, 0, 0, 1, 0, 1, 1, 0, 1, 1, 0, 1, 1, 1, 0, 1, 1, 1, 0, 0,\n",
       "       1, 1, 0, 1, 1, 1, 0, 0, 1, 1, 0, 0, 0, 0, 0, 0, 1, 1, 0, 0, 1, 1,\n",
       "       0, 0, 1, 0, 1, 0, 1, 0, 0, 1, 0, 0, 1, 1, 1, 1, 0, 1, 1, 0, 1, 1,\n",
       "       1, 1, 1, 0, 0, 0, 1, 0, 0, 0, 0, 0, 0, 0, 0, 0, 0, 0, 0, 0, 0, 1,\n",
       "       0, 1, 0, 1, 1, 0, 0, 0, 1, 0, 0, 1, 1, 0, 0, 1, 0, 0, 0, 0, 0, 0,\n",
       "       0, 1, 0, 0, 0, 1, 0, 0, 1, 1, 0, 0, 0, 1, 0, 1, 0, 1, 0, 0, 0, 1,\n",
       "       0, 1, 0, 1, 0, 0, 0, 1, 0, 1, 0, 0, 1, 1, 1, 0, 1, 0, 0, 0, 0, 0,\n",
       "       0, 1, 0, 1, 1, 0, 0, 1, 1, 0, 1, 0, 1, 1, 0, 0, 1, 0, 0, 0, 0, 0,\n",
       "       0, 0, 0, 0, 0, 1, 1, 0, 0, 1, 1, 1, 0, 0, 0, 0, 1, 0, 0, 0, 1, 0,\n",
       "       0, 0, 1, 1, 0, 1, 1, 1, 0, 1, 0, 0, 0, 0, 1, 1, 0, 0, 1, 0, 0, 1,\n",
       "       1, 0, 0, 0, 1, 0, 1, 1, 1, 0, 0, 0, 1, 1, 1, 0, 0, 0, 0, 0, 0, 1,\n",
       "       1, 1, 0, 0, 1, 0, 0, 0, 1, 0, 1, 1, 1, 0, 0, 0, 0, 1, 1, 0, 0, 0,\n",
       "       1, 1, 0, 0, 0, 1, 0, 1, 0, 1, 0, 1, 1, 1, 0, 0, 0, 0, 1, 0, 0, 1,\n",
       "       0, 1, 0, 0, 0, 0, 0, 0, 0, 1, 0, 0, 0, 0, 1, 0, 1, 0, 1, 1, 0, 0,\n",
       "       1, 0, 1, 1, 1, 0, 1, 1, 0, 1, 0, 1, 1, 0, 0, 1, 0, 0, 0, 0, 1, 0,\n",
       "       1, 1, 1, 0, 1, 0, 0, 1, 1, 0, 1, 0, 0, 1, 0, 0, 1, 0, 1, 0, 0, 0,\n",
       "       0, 0, 0, 0, 0, 1, 0, 0, 0, 1, 1, 1, 1, 0, 1, 0, 0, 0, 1, 1, 0, 0,\n",
       "       1, 0, 0, 0, 1, 0, 0, 0, 0, 0, 1, 0, 0, 1, 0, 1, 0, 0, 1, 0, 1, 0,\n",
       "       0, 0, 0, 0, 0, 0, 0, 0, 0, 0, 0, 0, 1, 0, 0, 1, 0, 0, 1, 1, 0, 1,\n",
       "       1, 1, 1, 1, 1, 0, 1, 0, 1, 0, 0, 1, 0, 0, 0, 1, 1, 0, 0, 1, 1, 0,\n",
       "       1, 0, 0, 0, 1, 0, 1, 0, 1, 0, 1, 0, 1, 0, 1, 0, 0, 1, 0, 0, 0, 1,\n",
       "       0, 0, 0, 1, 0, 0, 0, 1, 1, 1, 0, 0, 0, 0, 1, 0, 1, 1, 0, 0, 0, 0,\n",
       "       1, 1, 1, 0, 1, 0, 0, 1, 1, 0, 1, 1, 0, 1, 0, 1, 0, 0, 0, 1, 1, 0,\n",
       "       0, 0, 1, 0, 0, 1, 0, 1, 1, 1, 0, 0, 0, 1, 0, 1, 0, 0, 1, 0, 1, 0,\n",
       "       0, 0, 0, 1, 1, 1, 1, 1, 0, 0, 0, 1, 1, 0, 0, 0, 0, 0, 1, 1, 1, 1,\n",
       "       0, 0, 0, 0, 1, 0, 1, 0, 0, 1, 0, 1, 0, 0, 0, 0, 0, 0, 0, 0, 0, 0,\n",
       "       0, 0, 0, 1, 0, 1, 0, 1, 1, 1, 1, 0, 1, 1, 1, 0, 1, 1, 1, 0, 0, 0,\n",
       "       0, 0, 0, 0, 1, 0, 1, 0, 0, 0, 0, 0, 0, 1, 0, 1, 0, 1, 0, 1, 0, 0,\n",
       "       1, 1, 0, 0, 1, 0, 0, 1, 1, 1, 0, 1, 1, 1, 0, 0, 1, 1, 0, 0, 1, 1,\n",
       "       0, 0, 0, 0, 1, 1, 0, 0, 1, 0, 0, 0, 1, 0, 1, 0, 0, 0, 0, 1, 0, 0,\n",
       "       1, 0, 1, 1, 1, 0, 1, 0, 0, 1, 0, 1, 0, 1, 0, 1, 0, 0, 0, 0, 1, 1,\n",
       "       0, 0, 0, 1, 0, 0, 0, 0, 0, 0, 0, 1, 0, 0, 0, 0, 1, 0, 0, 0, 0, 1,\n",
       "       0, 1, 0, 1, 0, 1, 1, 1, 0, 1, 0, 0, 0, 0, 0, 1, 0, 1, 0, 0, 0, 0,\n",
       "       1, 0, 0, 0, 0, 1, 0, 0, 1, 1, 1, 0, 1, 0, 0, 0, 0, 1, 1, 0, 1, 1,\n",
       "       0, 1, 0, 1, 0, 1, 1, 0, 1, 0, 0, 1, 0, 1, 0, 1, 1, 1, 1, 0, 1, 1,\n",
       "       0, 0, 0, 0, 0, 1, 0, 0, 1, 1, 0, 0, 0, 1, 0, 0, 0, 1, 1, 1, 1, 1,\n",
       "       0, 1, 0, 0, 0, 0, 1, 1, 1, 0, 0, 1, 0, 0, 0, 0, 0, 0, 1, 0, 1, 0,\n",
       "       0, 1, 0, 0, 0, 0, 1, 1, 1, 0, 0, 0, 0, 0, 1, 0, 0, 1, 0, 1, 1, 0,\n",
       "       0, 0, 0, 1, 1, 1, 0, 0, 0, 0, 0, 0, 1, 0, 0, 0, 0, 0, 0, 0, 0, 1,\n",
       "       1, 0, 0, 1, 1, 0, 1, 0, 0, 0, 1, 1, 1, 0, 0, 0, 1, 0, 0, 0, 1, 0,\n",
       "       0, 0, 1, 1, 0, 0, 0, 0, 1, 1, 0, 0, 0, 0, 0, 0, 1, 0, 1, 1, 0, 0,\n",
       "       1, 0, 0, 0, 0, 1, 0, 1, 1, 0])"
      ]
     },
     "execution_count": 239,
     "metadata": {},
     "output_type": "execute_result"
    }
   ],
   "source": [
    "y_pred=lda.fit(X_da,y_da).predict(X_da_test)\n",
    "y_pred"
   ]
  },
  {
   "cell_type": "code",
   "execution_count": 240,
   "metadata": {},
   "outputs": [
    {
     "data": {
      "text/plain": [
       "array([[0.08463231, 0.91536769],\n",
       "       [0.76717335, 0.23282665],\n",
       "       [0.40976566, 0.59023434],\n",
       "       ...,\n",
       "       [0.0605081 , 0.9394919 ],\n",
       "       [0.0606545 , 0.9393455 ],\n",
       "       [0.69867634, 0.30132366]])"
      ]
     },
     "execution_count": 240,
     "metadata": {},
     "output_type": "execute_result"
    }
   ],
   "source": [
    "y_predprob=lda.fit(X_da,y_da).predict_proba(X_da_test)\n",
    "y_predprob"
   ]
  },
  {
   "cell_type": "code",
   "execution_count": 241,
   "metadata": {},
   "outputs": [
    {
     "data": {
      "text/plain": [
       "(array([[128.627 ,  21.6801,   2.7749, ..., -11.5924,   3.1073, 221.05  ],\n",
       "        [ 38.5054,  20.5728,   3.0434, ...,  -8.6808,  18.3976, 146.372 ],\n",
       "        [151.944 ,  50.3368,   3.3734, ..., -29.3757,  56.64  , 203.853 ],\n",
       "        ...,\n",
       "        [ 72.8104,  14.3361,   3.096 , ...,  -5.9832,   0.644 , 286.265 ],\n",
       "        [ 72.926 ,  24.6827,   3.363 , ..., -18.5071,   3.3709, 251.882 ],\n",
       "        [ 38.5942,  28.2244,   2.839 , ...,  23.7012,  35.4255, 213.8245]]),\n",
       " array([1, 0, 1, ..., 0, 0, 1]))"
      ]
     },
     "execution_count": 241,
     "metadata": {},
     "output_type": "execute_result"
    }
   ],
   "source": [
    "X_da,y_da"
   ]
  },
  {
   "cell_type": "code",
   "execution_count": 242,
   "metadata": {
    "scrolled": true
   },
   "outputs": [
    {
     "data": {
      "text/plain": [
       "array([1, 0, 0, ..., 0, 0, 1])"
      ]
     },
     "execution_count": 242,
     "metadata": {},
     "output_type": "execute_result"
    }
   ],
   "source": [
    "y_pred=lda.fit(X_da,y_da).predict(X_da)\n",
    "y_da-y_pred"
   ]
  },
  {
   "cell_type": "code",
   "execution_count": 243,
   "metadata": {},
   "outputs": [
    {
     "data": {
      "text/plain": [
       "0.7636666666666667"
      ]
     },
     "execution_count": 243,
     "metadata": {},
     "output_type": "execute_result"
    }
   ],
   "source": [
    "metrics.accuracy_score(y_pred, y_da)"
   ]
  },
  {
   "cell_type": "code",
   "execution_count": 244,
   "metadata": {},
   "outputs": [],
   "source": [
    "scores = cross_val_score(estimator=lda,X=X_da,y=y_da,cv=kf,scoring =\"accuracy\") # is split using k-fold with 5 splits"
   ]
  },
  {
   "cell_type": "code",
   "execution_count": 245,
   "metadata": {},
   "outputs": [
    {
     "data": {
      "text/plain": [
       "array([0.75666667, 0.76      , 0.76222222, 0.78222222, 0.77444444,\n",
       "       0.76      , 0.76      , 0.75888889, 0.76666667, 0.75333333])"
      ]
     },
     "execution_count": 245,
     "metadata": {},
     "output_type": "execute_result"
    }
   ],
   "source": [
    "scores"
   ]
  },
  {
   "cell_type": "code",
   "execution_count": 246,
   "metadata": {},
   "outputs": [
    {
     "data": {
      "text/plain": [
       "(0.7533333333333333, 0.7634444444444444, 0.7822222222222223)"
      ]
     },
     "execution_count": 246,
     "metadata": {},
     "output_type": "execute_result"
    }
   ],
   "source": [
    "scores = pd.Series(scores)\n",
    "scores.min(), scores.mean(), scores.max()"
   ]
  },
  {
   "cell_type": "code",
   "execution_count": 247,
   "metadata": {},
   "outputs": [],
   "source": [
    "y_test_pred = lda.predict(X_da_test)"
   ]
  },
  {
   "cell_type": "code",
   "execution_count": 248,
   "metadata": {},
   "outputs": [
    {
     "data": {
      "text/plain": [
       "0.748"
      ]
     },
     "execution_count": 248,
     "metadata": {},
     "output_type": "execute_result"
    }
   ],
   "source": [
    "lda.score(X_da_test, y_da_test)"
   ]
  },
  {
   "cell_type": "code",
   "execution_count": null,
   "metadata": {},
   "outputs": [],
   "source": []
  },
  {
   "cell_type": "code",
   "execution_count": null,
   "metadata": {},
   "outputs": [],
   "source": []
  },
  {
   "cell_type": "code",
   "execution_count": 249,
   "metadata": {},
   "outputs": [],
   "source": [
    "#DECISION TREES"
   ]
  },
  {
   "cell_type": "code",
   "execution_count": 250,
   "metadata": {
    "scrolled": true
   },
   "outputs": [],
   "source": [
    "X_dt = X_train.values\n",
    "y_dt = y_train.values\n",
    "X_dt_test = X_test.values\n",
    "y_dt_test = y_test.values"
   ]
  },
  {
   "cell_type": "code",
   "execution_count": 251,
   "metadata": {},
   "outputs": [
    {
     "data": {
      "text/plain": [
       "DecisionTreeClassifier(max_depth=4)"
      ]
     },
     "execution_count": 251,
     "metadata": {},
     "output_type": "execute_result"
    }
   ],
   "source": [
    "treeclf=DecisionTreeClassifier(max_depth=4)\n",
    "treeclf.fit(X_dt,y_dt)"
   ]
  },
  {
   "cell_type": "code",
   "execution_count": 252,
   "metadata": {
    "scrolled": true
   },
   "outputs": [
    {
     "data": {
      "text/plain": [
       "array([0.30632238, 0.06289285, 0.0580482 , 0.0218091 , 0.        ,\n",
       "       0.        , 0.01886954, 0.        , 0.53205793, 0.        ])"
      ]
     },
     "execution_count": 252,
     "metadata": {},
     "output_type": "execute_result"
    }
   ],
   "source": [
    "treeclf.feature_importances_"
   ]
  },
  {
   "cell_type": "code",
   "execution_count": 253,
   "metadata": {
    "scrolled": true
   },
   "outputs": [
    {
     "data": {
      "text/plain": [
       "array([1, 0, 1, ..., 0, 0, 1])"
      ]
     },
     "execution_count": 253,
     "metadata": {},
     "output_type": "execute_result"
    }
   ],
   "source": [
    "yhat=treeclf.predict(X_dt)\n",
    "yhat"
   ]
  },
  {
   "cell_type": "code",
   "execution_count": 254,
   "metadata": {},
   "outputs": [
    {
     "data": {
      "text/plain": [
       "0.7812222222222223"
      ]
     },
     "execution_count": 254,
     "metadata": {},
     "output_type": "execute_result"
    }
   ],
   "source": [
    "metrics.accuracy_score(y_dt,yhat)"
   ]
  },
  {
   "cell_type": "code",
   "execution_count": 255,
   "metadata": {},
   "outputs": [],
   "source": [
    "dot_data=export_graphviz(treeclf,out_file=\"treeclf.dot\",feature_names=variables)"
   ]
  },
  {
   "cell_type": "code",
   "execution_count": 256,
   "metadata": {},
   "outputs": [
    {
     "data": {
      "image/png": "[encoded data removed]",
      "text/plain": [
       "<IPython.core.display.Image object>"
      ]
     },
     "execution_count": 256,
     "metadata": {},
     "output_type": "execute_result"
    }
   ],
   "source": [
    "Image(\"treeclf.png\")"
   ]
  },
  {
   "cell_type": "code",
   "execution_count": 257,
   "metadata": {
    "scrolled": true
   },
   "outputs": [
    {
     "data": {
      "text/plain": [
       "0.21877777777777777"
      ]
     },
     "execution_count": 257,
     "metadata": {},
     "output_type": "execute_result"
    }
   ],
   "source": [
    "yhat=treeclf.predict(X_dt)\n",
    "metrics.mean_squared_error(yhat,y_dt)"
   ]
  },
  {
   "cell_type": "code",
   "execution_count": 258,
   "metadata": {},
   "outputs": [],
   "source": [
    "treeclf=DecisionTreeClassifier(max_depth=10)\n",
    "treeclf=treeclf.fit(X_dt,y_dt)"
   ]
  },
  {
   "cell_type": "code",
   "execution_count": 259,
   "metadata": {
    "scrolled": true
   },
   "outputs": [
    {
     "data": {
      "text/plain": [
       "array([1, 0, 1, 1, 0, 0, 0, 1, 0, 1, 0, 1, 0, 1, 0, 1, 1, 0, 0, 1, 0, 0,\n",
       "       1, 1, 1, 0, 0, 1, 0, 0, 0, 1, 0, 1, 1, 0, 1, 0, 0, 0, 1, 0, 1, 1,\n",
       "       1, 0, 0, 1, 0, 1, 0, 1, 0, 1, 1, 0, 0, 1, 0, 0, 1, 0, 1, 1, 1, 0,\n",
       "       0, 0, 0, 0, 1, 0, 1, 0, 0, 0, 1, 1, 0, 0, 0, 1, 1, 0, 0, 1, 0, 1,\n",
       "       1, 0, 1, 1, 0, 1, 1, 0, 1, 1, 0, 1, 0, 1, 1, 1, 0, 1, 1, 0, 0, 0,\n",
       "       0, 1, 0, 1, 1, 1, 0, 1, 1, 1, 0, 0, 0, 1, 0, 0, 1, 1, 1, 0, 1, 1,\n",
       "       0, 1, 1, 0, 1, 0, 1, 0, 0, 0, 0, 0, 1, 1, 1, 1, 0, 1, 1, 0, 1, 0,\n",
       "       1, 1, 1, 0, 1, 0, 1, 0, 0, 0, 0, 0, 0, 0, 0, 0, 0, 0, 0, 0, 0, 1,\n",
       "       0, 0, 1, 1, 1, 0, 1, 0, 1, 0, 0, 0, 1, 1, 0, 0, 0, 1, 0, 1, 0, 1,\n",
       "       0, 1, 0, 0, 0, 1, 0, 1, 1, 1, 0, 0, 0, 0, 0, 1, 0, 1, 0, 1, 1, 0,\n",
       "       1, 1, 0, 1, 0, 0, 1, 1, 0, 1, 0, 0, 1, 1, 1, 0, 1, 0, 1, 1, 0, 0,\n",
       "       1, 1, 0, 0, 0, 0, 0, 1, 1, 0, 1, 0, 1, 1, 1, 0, 1, 0, 0, 0, 0, 0,\n",
       "       0, 0, 0, 0, 0, 1, 1, 0, 0, 1, 0, 0, 0, 0, 0, 0, 1, 1, 0, 1, 1, 0,\n",
       "       0, 1, 1, 1, 0, 1, 1, 1, 0, 1, 0, 0, 0, 0, 1, 1, 0, 1, 1, 0, 0, 1,\n",
       "       1, 0, 0, 0, 1, 0, 1, 1, 1, 0, 0, 1, 1, 1, 1, 0, 0, 0, 0, 0, 0, 1,\n",
       "       0, 0, 0, 0, 1, 0, 0, 0, 1, 0, 1, 1, 0, 0, 0, 0, 0, 1, 1, 0, 0, 0,\n",
       "       1, 1, 0, 0, 0, 1, 0, 1, 0, 0, 0, 0, 1, 1, 0, 0, 0, 0, 1, 0, 0, 1,\n",
       "       1, 1, 0, 0, 0, 0, 1, 1, 0, 1, 0, 0, 0, 1, 1, 0, 1, 0, 1, 1, 0, 0,\n",
       "       1, 0, 1, 1, 1, 0, 1, 0, 1, 1, 0, 1, 1, 0, 0, 0, 0, 1, 0, 0, 1, 0,\n",
       "       1, 1, 1, 0, 1, 0, 0, 1, 0, 0, 1, 0, 0, 0, 0, 1, 1, 0, 1, 0, 0, 0,\n",
       "       0, 0, 1, 1, 0, 1, 0, 0, 0, 1, 0, 1, 0, 0, 0, 0, 0, 0, 1, 1, 0, 1,\n",
       "       1, 0, 0, 0, 0, 1, 0, 0, 0, 0, 1, 0, 0, 1, 0, 1, 0, 0, 1, 0, 0, 0,\n",
       "       0, 0, 0, 1, 0, 0, 0, 0, 0, 0, 0, 0, 1, 1, 1, 1, 0, 0, 1, 0, 0, 1,\n",
       "       0, 0, 1, 1, 1, 0, 1, 0, 1, 0, 0, 1, 0, 0, 0, 1, 0, 0, 0, 1, 1, 0,\n",
       "       1, 0, 0, 0, 1, 0, 1, 0, 1, 0, 0, 0, 1, 0, 1, 0, 1, 1, 0, 0, 0, 1,\n",
       "       0, 0, 0, 0, 0, 0, 0, 1, 0, 0, 0, 0, 0, 0, 1, 0, 1, 1, 0, 0, 0, 1,\n",
       "       1, 1, 1, 0, 1, 0, 0, 0, 1, 0, 0, 1, 0, 1, 0, 0, 0, 0, 0, 1, 1, 0,\n",
       "       0, 0, 1, 0, 0, 0, 0, 1, 1, 1, 0, 1, 0, 1, 0, 1, 0, 0, 1, 0, 0, 1,\n",
       "       0, 0, 1, 1, 0, 1, 1, 0, 1, 0, 0, 0, 1, 0, 0, 0, 0, 1, 1, 1, 1, 1,\n",
       "       0, 0, 0, 0, 1, 0, 1, 0, 0, 1, 1, 1, 0, 0, 1, 1, 1, 0, 0, 0, 1, 0,\n",
       "       0, 0, 1, 0, 0, 1, 0, 1, 1, 1, 1, 0, 1, 1, 1, 0, 1, 1, 1, 0, 0, 1,\n",
       "       0, 0, 0, 0, 1, 0, 1, 0, 0, 1, 0, 0, 0, 1, 1, 1, 0, 1, 1, 1, 1, 1,\n",
       "       1, 1, 0, 0, 1, 0, 1, 0, 1, 1, 0, 1, 1, 1, 0, 0, 1, 1, 1, 0, 1, 1,\n",
       "       0, 0, 0, 0, 0, 0, 0, 0, 1, 1, 0, 0, 1, 0, 0, 0, 0, 0, 0, 0, 0, 0,\n",
       "       1, 0, 0, 1, 1, 0, 1, 0, 0, 0, 0, 1, 0, 1, 0, 0, 0, 1, 1, 1, 1, 0,\n",
       "       0, 0, 0, 1, 0, 0, 0, 1, 0, 0, 1, 1, 1, 0, 0, 1, 1, 1, 1, 0, 0, 1,\n",
       "       0, 0, 0, 0, 1, 1, 1, 1, 0, 0, 1, 0, 0, 0, 1, 1, 1, 0, 0, 0, 0, 0,\n",
       "       1, 0, 1, 0, 1, 1, 0, 0, 1, 1, 1, 0, 1, 0, 0, 0, 0, 1, 1, 0, 1, 1,\n",
       "       0, 1, 0, 1, 0, 1, 1, 0, 1, 0, 1, 1, 0, 0, 1, 1, 1, 1, 1, 0, 1, 0,\n",
       "       0, 1, 0, 0, 0, 1, 0, 0, 0, 1, 0, 0, 0, 0, 0, 0, 0, 1, 1, 1, 1, 1,\n",
       "       1, 1, 0, 0, 0, 0, 1, 1, 1, 0, 1, 1, 0, 0, 0, 0, 1, 1, 1, 1, 1, 0,\n",
       "       1, 1, 0, 0, 0, 0, 0, 1, 0, 1, 1, 0, 1, 0, 1, 1, 0, 1, 0, 1, 1, 0,\n",
       "       0, 0, 0, 1, 1, 1, 0, 0, 0, 0, 0, 0, 1, 0, 0, 0, 0, 0, 0, 0, 0, 0,\n",
       "       1, 0, 0, 1, 1, 1, 1, 0, 0, 0, 1, 1, 0, 0, 0, 0, 1, 0, 0, 0, 1, 0,\n",
       "       0, 1, 0, 1, 0, 0, 0, 0, 0, 1, 0, 1, 0, 0, 0, 0, 1, 1, 1, 1, 0, 0,\n",
       "       0, 0, 0, 0, 0, 1, 0, 1, 1, 1])"
      ]
     },
     "execution_count": 259,
     "metadata": {},
     "output_type": "execute_result"
    }
   ],
   "source": [
    "y_dt_pred=treeclf.predict(X_dt_test)\n",
    "y_dt_pred"
   ]
  },
  {
   "cell_type": "code",
   "execution_count": 260,
   "metadata": {},
   "outputs": [
    {
     "data": {
      "text/plain": [
       "0.801"
      ]
     },
     "execution_count": 260,
     "metadata": {},
     "output_type": "execute_result"
    }
   ],
   "source": [
    "metrics.accuracy_score(y_dt_test,y_dt_pred)"
   ]
  },
  {
   "cell_type": "code",
   "execution_count": 261,
   "metadata": {},
   "outputs": [
    {
     "data": {
      "text/plain": [
       "0.8149999999999998"
      ]
     },
     "execution_count": 261,
     "metadata": {},
     "output_type": "execute_result"
    }
   ],
   "source": [
    "kf=KFold(n_splits=10, shuffle=True)\n",
    "np.mean(cross_val_score(treeclf, X_dt, y_dt, cv=10))"
   ]
  },
  {
   "cell_type": "code",
   "execution_count": null,
   "metadata": {},
   "outputs": [],
   "source": []
  },
  {
   "cell_type": "code",
   "execution_count": null,
   "metadata": {},
   "outputs": [],
   "source": []
  },
  {
   "cell_type": "code",
   "execution_count": 262,
   "metadata": {},
   "outputs": [],
   "source": [
    "#Random Forests"
   ]
  },
  {
   "cell_type": "code",
   "execution_count": 263,
   "metadata": {},
   "outputs": [],
   "source": [
    "X_rf = X_train.values\n",
    "y_rf = y_train.values\n",
    "X_rf_test = X_test.values\n",
    "y_rf_test = y_test.values"
   ]
  },
  {
   "cell_type": "code",
   "execution_count": 264,
   "metadata": {},
   "outputs": [],
   "source": [
    "yarr=np.ravel(y_rf)\n",
    "yarr_test=np.ravel(y_rf_test)"
   ]
  },
  {
   "cell_type": "code",
   "execution_count": 265,
   "metadata": {},
   "outputs": [
    {
     "data": {
      "text/plain": [
       "RandomForestClassifier(max_depth=15, n_estimators=50)"
      ]
     },
     "execution_count": 265,
     "metadata": {},
     "output_type": "execute_result"
    }
   ],
   "source": [
    "rfclf=RandomForestClassifier(n_estimators=50, max_depth=15) \n",
    "rfclf.fit(X_rf,y_rf)"
   ]
  },
  {
   "cell_type": "code",
   "execution_count": 266,
   "metadata": {},
   "outputs": [],
   "source": [
    "#param_grid = {\n",
    "            #  'max_depth': [3, 4, 7, 9, 15,20,25]\n",
    "            # }"
   ]
  },
  {
   "cell_type": "code",
   "execution_count": 267,
   "metadata": {
    "scrolled": true
   },
   "outputs": [],
   "source": [
    "#grid_clf = GridSearchCV(rfclf, param_grid, cv=10)\n",
    "#grid_clf.fit(X_rf,y_rf)"
   ]
  },
  {
   "cell_type": "code",
   "execution_count": 268,
   "metadata": {
    "scrolled": true
   },
   "outputs": [],
   "source": [
    "#grid_clf.best_estimator_"
   ]
  },
  {
   "cell_type": "code",
   "execution_count": 269,
   "metadata": {},
   "outputs": [
    {
     "data": {
      "text/plain": [
       "RandomForestClassifier(max_depth=27, n_estimators=50)"
      ]
     },
     "execution_count": 269,
     "metadata": {},
     "output_type": "execute_result"
    }
   ],
   "source": [
    "rfclf2=RandomForestClassifier(n_estimators=50, max_depth=27) \n",
    "rfclf2.fit(X_rf,y_rf)"
   ]
  },
  {
   "cell_type": "code",
   "execution_count": 270,
   "metadata": {},
   "outputs": [
    {
     "data": {
      "text/plain": [
       "array([0.13484373, 0.11167681, 0.11432953, 0.06145469, 0.05884886,\n",
       "       0.05110148, 0.0830102 , 0.05371885, 0.2619164 , 0.06909944])"
      ]
     },
     "execution_count": 270,
     "metadata": {},
     "output_type": "execute_result"
    }
   ],
   "source": [
    "rfclf2.feature_importances_"
   ]
  },
  {
   "cell_type": "code",
   "execution_count": 271,
   "metadata": {
    "scrolled": true
   },
   "outputs": [
    {
     "data": {
      "text/plain": [
       "array([1, 0, 1, ..., 0, 0, 1])"
      ]
     },
     "execution_count": 271,
     "metadata": {},
     "output_type": "execute_result"
    }
   ],
   "source": [
    "yhat=rfclf2.predict(X_rf)\n",
    "yhat"
   ]
  },
  {
   "cell_type": "code",
   "execution_count": 272,
   "metadata": {},
   "outputs": [
    {
     "data": {
      "text/plain": [
       "array([[4505,    2],\n",
       "       [   0, 4493]])"
      ]
     },
     "execution_count": 272,
     "metadata": {},
     "output_type": "execute_result"
    }
   ],
   "source": [
    "cm=metrics.confusion_matrix(yhat,y_rf)\n",
    "cm"
   ]
  },
  {
   "cell_type": "code",
   "execution_count": 273,
   "metadata": {
    "scrolled": true
   },
   "outputs": [
    {
     "data": {
      "text/plain": [
       "array([1, 0, 1, 1, 1, 0, 0, 0, 0, 1, 1, 1, 0, 0, 1, 0, 1, 1, 0, 1, 0, 0,\n",
       "       1, 1, 0, 1, 0, 1, 0, 0, 0, 1, 0, 1, 1, 0, 1, 0, 1, 0, 1, 0, 1, 1,\n",
       "       0, 0, 0, 0, 0, 0, 0, 1, 0, 1, 0, 0, 0, 1, 0, 0, 1, 0, 1, 0, 1, 0,\n",
       "       0, 0, 0, 0, 0, 0, 1, 0, 0, 1, 1, 1, 0, 0, 1, 0, 0, 0, 0, 1, 1, 1,\n",
       "       1, 0, 1, 0, 1, 1, 1, 1, 1, 0, 0, 1, 0, 1, 1, 1, 0, 1, 1, 0, 0, 0,\n",
       "       0, 1, 0, 1, 1, 1, 0, 1, 1, 1, 0, 1, 0, 0, 0, 0, 1, 1, 1, 0, 1, 1,\n",
       "       0, 0, 1, 1, 1, 0, 1, 0, 1, 1, 0, 0, 1, 1, 1, 1, 0, 1, 1, 1, 1, 0,\n",
       "       1, 1, 1, 0, 1, 0, 1, 0, 0, 0, 0, 0, 0, 1, 0, 0, 0, 0, 0, 0, 0, 1,\n",
       "       0, 1, 1, 1, 1, 0, 1, 0, 1, 0, 0, 0, 1, 0, 0, 0, 0, 1, 0, 0, 0, 1,\n",
       "       0, 1, 1, 0, 0, 0, 0, 1, 0, 1, 0, 0, 1, 0, 1, 0, 0, 1, 0, 1, 1, 1,\n",
       "       1, 0, 0, 1, 0, 0, 1, 1, 0, 1, 0, 0, 1, 1, 1, 0, 1, 0, 0, 1, 0, 0,\n",
       "       0, 1, 0, 0, 0, 0, 0, 1, 1, 0, 1, 0, 1, 1, 1, 0, 1, 0, 0, 0, 0, 0,\n",
       "       0, 0, 0, 0, 0, 1, 1, 0, 0, 1, 0, 1, 0, 0, 0, 0, 1, 1, 0, 1, 1, 0,\n",
       "       0, 1, 1, 1, 0, 1, 1, 1, 0, 1, 0, 0, 0, 0, 1, 1, 0, 1, 1, 0, 0, 1,\n",
       "       1, 0, 0, 0, 1, 0, 1, 1, 1, 0, 0, 1, 1, 1, 1, 0, 0, 0, 1, 0, 0, 1,\n",
       "       1, 0, 1, 0, 1, 0, 0, 0, 1, 0, 1, 1, 1, 0, 0, 1, 0, 1, 1, 0, 0, 0,\n",
       "       1, 1, 0, 0, 0, 1, 0, 1, 0, 0, 0, 0, 1, 1, 0, 0, 0, 0, 1, 0, 0, 1,\n",
       "       1, 1, 0, 0, 0, 0, 1, 1, 1, 1, 0, 0, 0, 0, 1, 0, 1, 0, 1, 1, 0, 0,\n",
       "       1, 0, 1, 1, 1, 0, 1, 0, 1, 1, 0, 1, 1, 0, 0, 0, 0, 1, 1, 0, 1, 1,\n",
       "       1, 1, 1, 0, 1, 0, 0, 1, 1, 0, 1, 0, 1, 0, 0, 1, 1, 0, 1, 0, 0, 0,\n",
       "       0, 0, 1, 0, 0, 1, 0, 0, 0, 1, 1, 1, 0, 0, 1, 0, 0, 0, 1, 1, 0, 1,\n",
       "       1, 0, 1, 1, 0, 0, 0, 0, 0, 0, 1, 0, 0, 1, 0, 1, 0, 0, 1, 0, 1, 0,\n",
       "       0, 0, 1, 1, 1, 0, 0, 0, 0, 0, 1, 0, 1, 0, 1, 1, 0, 0, 1, 1, 0, 1,\n",
       "       0, 0, 1, 1, 1, 0, 1, 0, 0, 0, 0, 1, 1, 0, 0, 1, 0, 0, 0, 1, 1, 0,\n",
       "       1, 0, 0, 0, 1, 0, 1, 0, 1, 0, 0, 0, 1, 0, 1, 0, 1, 1, 1, 0, 0, 1,\n",
       "       0, 0, 0, 0, 0, 0, 0, 1, 1, 0, 0, 0, 0, 0, 1, 0, 1, 1, 0, 0, 0, 1,\n",
       "       1, 1, 1, 0, 1, 0, 0, 0, 1, 1, 0, 1, 0, 1, 0, 0, 0, 0, 0, 1, 1, 0,\n",
       "       0, 0, 1, 0, 0, 1, 1, 1, 1, 1, 0, 1, 1, 1, 0, 1, 0, 0, 1, 0, 0, 1,\n",
       "       0, 0, 1, 1, 0, 1, 1, 1, 1, 1, 0, 1, 1, 0, 0, 0, 0, 1, 1, 1, 1, 1,\n",
       "       0, 0, 0, 0, 1, 0, 1, 0, 0, 1, 1, 1, 0, 0, 1, 1, 0, 0, 0, 0, 0, 0,\n",
       "       0, 0, 1, 1, 0, 1, 0, 1, 1, 1, 0, 0, 1, 1, 1, 0, 1, 1, 1, 0, 0, 1,\n",
       "       0, 0, 0, 1, 1, 0, 1, 0, 0, 1, 0, 0, 0, 1, 1, 1, 0, 1, 0, 1, 1, 1,\n",
       "       0, 1, 0, 0, 1, 0, 1, 0, 1, 1, 0, 1, 1, 1, 0, 0, 1, 1, 0, 0, 1, 1,\n",
       "       1, 0, 1, 0, 0, 0, 0, 0, 1, 1, 0, 0, 1, 0, 0, 0, 0, 0, 0, 0, 0, 0,\n",
       "       1, 0, 0, 1, 1, 0, 1, 0, 0, 1, 0, 1, 0, 1, 0, 0, 0, 1, 1, 1, 1, 0,\n",
       "       1, 0, 0, 1, 0, 1, 0, 0, 0, 0, 0, 1, 0, 0, 0, 1, 1, 0, 1, 0, 0, 1,\n",
       "       0, 0, 0, 0, 1, 1, 1, 1, 0, 0, 1, 0, 0, 0, 0, 1, 0, 0, 0, 0, 0, 0,\n",
       "       1, 0, 1, 0, 1, 1, 0, 0, 1, 1, 1, 1, 1, 0, 0, 0, 0, 1, 1, 0, 1, 1,\n",
       "       0, 1, 0, 1, 0, 1, 1, 1, 1, 0, 1, 1, 1, 1, 1, 1, 1, 1, 1, 0, 1, 1,\n",
       "       0, 1, 1, 0, 0, 0, 0, 0, 0, 1, 0, 1, 0, 0, 0, 0, 0, 1, 1, 1, 1, 1,\n",
       "       1, 1, 0, 0, 0, 1, 1, 1, 1, 0, 1, 0, 0, 1, 0, 0, 0, 1, 1, 1, 1, 0,\n",
       "       1, 1, 0, 0, 0, 0, 0, 0, 0, 0, 1, 0, 1, 0, 0, 1, 0, 1, 0, 1, 1, 0,\n",
       "       0, 0, 0, 1, 1, 1, 0, 0, 0, 0, 0, 0, 1, 0, 1, 0, 0, 0, 0, 1, 0, 0,\n",
       "       1, 0, 0, 1, 1, 0, 1, 0, 0, 0, 1, 1, 0, 0, 0, 0, 1, 0, 0, 0, 1, 0,\n",
       "       0, 1, 0, 1, 0, 0, 0, 0, 1, 1, 0, 1, 0, 0, 0, 0, 1, 1, 1, 1, 0, 0,\n",
       "       0, 0, 0, 0, 0, 1, 0, 1, 1, 1])"
      ]
     },
     "execution_count": 273,
     "metadata": {},
     "output_type": "execute_result"
    }
   ],
   "source": [
    "y_pred_test = rfclf2.predict(X_rf_test)\n",
    "y_pred_test"
   ]
  },
  {
   "cell_type": "code",
   "execution_count": 274,
   "metadata": {
    "scrolled": true
   },
   "outputs": [
    {
     "data": {
      "text/plain": [
       "0.844"
      ]
     },
     "execution_count": 274,
     "metadata": {},
     "output_type": "execute_result"
    }
   ],
   "source": [
    "metrics.accuracy_score(yarr_test, y_pred_test)"
   ]
  },
  {
   "cell_type": "code",
   "execution_count": 275,
   "metadata": {
    "scrolled": true
   },
   "outputs": [
    {
     "name": "stdout",
     "output_type": "stream",
     "text": [
      "              precision    recall  f1-score   support\n",
      "\n",
      "           0       0.81      0.90      0.85       495\n",
      "           1       0.89      0.79      0.84       505\n",
      "\n",
      "    accuracy                           0.84      1000\n",
      "   macro avg       0.85      0.84      0.84      1000\n",
      "weighted avg       0.85      0.84      0.84      1000\n",
      "\n"
     ]
    }
   ],
   "source": [
    "print(classification_report(yarr_test, y_pred_test))"
   ]
  },
  {
   "cell_type": "code",
   "execution_count": 276,
   "metadata": {},
   "outputs": [
    {
     "data": {
      "text/plain": [
       "0.8523333333333334"
      ]
     },
     "execution_count": 276,
     "metadata": {},
     "output_type": "execute_result"
    }
   ],
   "source": [
    "kf=KFold(n_splits=10, shuffle=True)\n",
    "np.mean(cross_val_score(rfclf, X_rf, yarr, cv=10))"
   ]
  },
  {
   "cell_type": "code",
   "execution_count": null,
   "metadata": {},
   "outputs": [],
   "source": []
  },
  {
   "cell_type": "code",
   "execution_count": null,
   "metadata": {},
   "outputs": [],
   "source": []
  },
  {
   "cell_type": "code",
   "execution_count": null,
   "metadata": {},
   "outputs": [],
   "source": []
  },
  {
   "cell_type": "code",
   "execution_count": 277,
   "metadata": {},
   "outputs": [],
   "source": [
    "#GRADIENT BOOSTING"
   ]
  },
  {
   "cell_type": "code",
   "execution_count": 278,
   "metadata": {},
   "outputs": [],
   "source": [
    "X_gb = X_train.values\n",
    "y_gb = y_train.values\n",
    "X_gb_test = X_test.values\n",
    "y_gb_test = y_test.values"
   ]
  },
  {
   "cell_type": "code",
   "execution_count": 279,
   "metadata": {},
   "outputs": [],
   "source": [
    "#yarr_gb=np.ravel(y_gb)\n",
    "#yarr_gb_test=np.ravel(y_gb_test)"
   ]
  },
  {
   "cell_type": "code",
   "execution_count": 280,
   "metadata": {
    "scrolled": true
   },
   "outputs": [
    {
     "data": {
      "text/plain": [
       "GradientBoostingClassifier(max_depth=15, n_estimators=50)"
      ]
     },
     "execution_count": 280,
     "metadata": {},
     "output_type": "execute_result"
    }
   ],
   "source": [
    "gbc=GradientBoostingClassifier(n_estimators=50, max_depth=15)\n",
    "gbc.fit(X_gb,y_gb)"
   ]
  },
  {
   "cell_type": "code",
   "execution_count": 281,
   "metadata": {},
   "outputs": [],
   "source": [
    "param_test = {'max_depth':range(5,20,2), 'min_samples_split':range(200,1001,200)}\n",
    "gsearch = GridSearchCV(estimator = GradientBoostingClassifier(learning_rate=0.1, n_estimators=50,random_state=10), \n",
    "                                                              param_grid = param_test, scoring='roc_auc',n_jobs=4,iid=False, cv=5)"
   ]
  },
  {
   "cell_type": "code",
   "execution_count": 282,
   "metadata": {},
   "outputs": [
    {
     "name": "stderr",
     "output_type": "stream",
     "text": [
      "/opt/anaconda3/envs/ML/lib/python3.7/site-packages/sklearn/model_selection/_search.py:849: FutureWarning: The parameter 'iid' is deprecated in 0.22 and will be removed in 0.24.\n",
      "  \"removed in 0.24.\", FutureWarning\n"
     ]
    },
    {
     "data": {
      "text/plain": [
       "GridSearchCV(cv=5,\n",
       "             estimator=GradientBoostingClassifier(n_estimators=50,\n",
       "                                                  random_state=10),\n",
       "             iid=False, n_jobs=4,\n",
       "             param_grid={'max_depth': range(5, 20, 2),\n",
       "                         'min_samples_split': range(200, 1001, 200)},\n",
       "             scoring='roc_auc')"
      ]
     },
     "execution_count": 282,
     "metadata": {},
     "output_type": "execute_result"
    }
   ],
   "source": [
    "gsearch.fit(X_gb,y_gb)"
   ]
  },
  {
   "cell_type": "code",
   "execution_count": 283,
   "metadata": {},
   "outputs": [
    {
     "data": {
      "text/plain": [
       "({'max_depth': 17, 'min_samples_split': 200}, 0.925284352202904)"
      ]
     },
     "execution_count": 283,
     "metadata": {},
     "output_type": "execute_result"
    }
   ],
   "source": [
    "gsearch.best_params_, gsearch.best_score_"
   ]
  },
  {
   "cell_type": "code",
   "execution_count": 284,
   "metadata": {},
   "outputs": [
    {
     "data": {
      "text/plain": [
       "GradientBoostingClassifier(max_depth=17, min_samples_split=400, n_estimators=50)"
      ]
     },
     "execution_count": 284,
     "metadata": {},
     "output_type": "execute_result"
    }
   ],
   "source": [
    "gbc=GradientBoostingClassifier(n_estimators=50, max_depth=17, min_samples_split=400)\n",
    "gbc.fit(X_gb,y_gb)"
   ]
  },
  {
   "cell_type": "code",
   "execution_count": 285,
   "metadata": {
    "scrolled": true
   },
   "outputs": [
    {
     "data": {
      "text/plain": [
       "array([1, 0, 1, ..., 0, 0, 1])"
      ]
     },
     "execution_count": 285,
     "metadata": {},
     "output_type": "execute_result"
    }
   ],
   "source": [
    "predictions = gbc.predict(X_gb)\n",
    "predictions"
   ]
  },
  {
   "cell_type": "code",
   "execution_count": 286,
   "metadata": {
    "scrolled": false
   },
   "outputs": [
    {
     "data": {
      "text/plain": [
       "array([[4277,  474],\n",
       "       [ 228, 4021]])"
      ]
     },
     "execution_count": 286,
     "metadata": {},
     "output_type": "execute_result"
    }
   ],
   "source": [
    "metrics.confusion_matrix(predictions,y_gb)"
   ]
  },
  {
   "cell_type": "code",
   "execution_count": 287,
   "metadata": {},
   "outputs": [],
   "source": [
    "TESTpredictions = gbc.predict(X_gb_test)"
   ]
  },
  {
   "cell_type": "code",
   "execution_count": 288,
   "metadata": {},
   "outputs": [
    {
     "data": {
      "text/plain": [
       "0.834"
      ]
     },
     "execution_count": 288,
     "metadata": {},
     "output_type": "execute_result"
    }
   ],
   "source": [
    "metrics.accuracy_score(TESTpredictions, y_gb_test)"
   ]
  },
  {
   "cell_type": "code",
   "execution_count": 289,
   "metadata": {},
   "outputs": [
    {
     "data": {
      "text/plain": [
       "0.8503333333333334"
      ]
     },
     "execution_count": 289,
     "metadata": {},
     "output_type": "execute_result"
    }
   ],
   "source": [
    "kf=KFold(n_splits=10, shuffle=True)\n",
    "np.mean(cross_val_score(gbc, X_gb, y_gb, cv=10))"
   ]
  },
  {
   "cell_type": "code",
   "execution_count": null,
   "metadata": {},
   "outputs": [],
   "source": []
  },
  {
   "cell_type": "code",
   "execution_count": null,
   "metadata": {},
   "outputs": [],
   "source": []
  },
  {
   "cell_type": "code",
   "execution_count": 290,
   "metadata": {},
   "outputs": [
    {
     "data": {
      "text/plain": [
       "XGBClassifier()"
      ]
     },
     "execution_count": 290,
     "metadata": {},
     "output_type": "execute_result"
    }
   ],
   "source": [
    "xgbclf=XGBClassifier()\n",
    "xgbclf.fit(X_gb,y_gb)"
   ]
  },
  {
   "cell_type": "code",
   "execution_count": 291,
   "metadata": {},
   "outputs": [
    {
     "data": {
      "text/plain": [
       "array([[4092,  795],\n",
       "       [ 413, 3700]])"
      ]
     },
     "execution_count": 291,
     "metadata": {},
     "output_type": "execute_result"
    }
   ],
   "source": [
    "yhat=xgbclf.predict(X_gb)\n",
    "cm=metrics.confusion_matrix(yhat,y_gb)\n",
    "cm"
   ]
  },
  {
   "cell_type": "code",
   "execution_count": 292,
   "metadata": {},
   "outputs": [
    {
     "data": {
      "text/plain": [
       "array([0.15862542, 0.0840998 , 0.08257863, 0.07248376, 0.05350906,\n",
       "       0.03070348, 0.08714349, 0.02994645, 0.33309186, 0.067818  ],\n",
       "      dtype=float32)"
      ]
     },
     "execution_count": 292,
     "metadata": {},
     "output_type": "execute_result"
    }
   ],
   "source": [
    "xgbclf.feature_importances_"
   ]
  },
  {
   "cell_type": "code",
   "execution_count": 293,
   "metadata": {
    "scrolled": false
   },
   "outputs": [
    {
     "data": {
      "image/png": "[encoded data removed]",
      "text/plain": [
       "<Figure size 576x396 with 1 Axes>"
      ]
     },
     "metadata": {},
     "output_type": "display_data"
    }
   ],
   "source": [
    "ax = plot_importance(xgbclf)"
   ]
  },
  {
   "cell_type": "code",
   "execution_count": 294,
   "metadata": {},
   "outputs": [],
   "source": [
    "ax.figure.savefig('importance.png')"
   ]
  },
  {
   "cell_type": "code",
   "execution_count": 295,
   "metadata": {},
   "outputs": [],
   "source": [
    "#features 1,2,0 and 8 have the highest importance."
   ]
  },
  {
   "cell_type": "code",
   "execution_count": 296,
   "metadata": {},
   "outputs": [],
   "source": [
    "yhat1=xgbclf.predict(X_gb_test)"
   ]
  },
  {
   "cell_type": "code",
   "execution_count": 297,
   "metadata": {
    "scrolled": true
   },
   "outputs": [
    {
     "data": {
      "text/plain": [
       "0.83"
      ]
     },
     "execution_count": 297,
     "metadata": {},
     "output_type": "execute_result"
    }
   ],
   "source": [
    "metrics.accuracy_score(yhat1,y_gb_test)"
   ]
  },
  {
   "cell_type": "code",
   "execution_count": 298,
   "metadata": {},
   "outputs": [],
   "source": [
    "xgbclf2=XGBClassifier(random_state=7)"
   ]
  },
  {
   "cell_type": "code",
   "execution_count": 299,
   "metadata": {},
   "outputs": [],
   "source": [
    "kf=KFold(n_splits=10, shuffle=True)\n",
    "cval=cross_val_score(xgbclf2, X2, y1, cv=kf)"
   ]
  },
  {
   "cell_type": "code",
   "execution_count": 300,
   "metadata": {},
   "outputs": [
    {
     "data": {
      "text/plain": [
       "0.8449"
      ]
     },
     "execution_count": 300,
     "metadata": {},
     "output_type": "execute_result"
    }
   ],
   "source": [
    "np.mean(cval)"
   ]
  },
  {
   "cell_type": "code",
   "execution_count": null,
   "metadata": {},
   "outputs": [],
   "source": []
  },
  {
   "cell_type": "code",
   "execution_count": null,
   "metadata": {},
   "outputs": [],
   "source": []
  },
  {
   "cell_type": "code",
   "execution_count": null,
   "metadata": {},
   "outputs": [],
   "source": []
  },
  {
   "cell_type": "code",
   "execution_count": null,
   "metadata": {},
   "outputs": [],
   "source": []
  },
  {
   "cell_type": "code",
   "execution_count": 301,
   "metadata": {},
   "outputs": [],
   "source": [
    "#SUPPORT VECTOR MACHINES"
   ]
  },
  {
   "cell_type": "code",
   "execution_count": 302,
   "metadata": {},
   "outputs": [],
   "source": [
    "X_svm = X_train.values\n",
    "y_svm = y_train.values\n",
    "X_svm_test = X_test.values\n",
    "y_svm_test = y_test.values"
   ]
  },
  {
   "cell_type": "code",
   "execution_count": 303,
   "metadata": {},
   "outputs": [],
   "source": [
    "X_svm_VAL=X_svm[7000:]\n",
    "X_svm_train=X_svm[:7000]\n",
    "y_svm_VAL=y_svm[7000:]\n",
    "y_svm_train=y_svm[:7000]"
   ]
  },
  {
   "cell_type": "code",
   "execution_count": 304,
   "metadata": {},
   "outputs": [],
   "source": [
    "clf = svm.SVC(kernel='linear', C=1)"
   ]
  },
  {
   "cell_type": "code",
   "execution_count": 305,
   "metadata": {},
   "outputs": [],
   "source": [
    "#parameters={\"C\":[1,10],\"gamma\":(0.1,0.5,1,2)}\n",
    "#tuneclf=GridSearchCV(clf,parameters,cv=5)\n",
    "#tuneclf.fit(X_svm_train, y_svm_train)\n",
    "#took too long"
   ]
  },
  {
   "cell_type": "code",
   "execution_count": 306,
   "metadata": {
    "scrolled": true
   },
   "outputs": [],
   "source": [
    "#tuneclf.best_estimator_"
   ]
  },
  {
   "cell_type": "code",
   "execution_count": 307,
   "metadata": {},
   "outputs": [],
   "source": [
    "#tuneclf.best_score_"
   ]
  },
  {
   "cell_type": "code",
   "execution_count": 308,
   "metadata": {},
   "outputs": [],
   "source": [
    "#clf.fit(X_svm_train, y_svm_train)"
   ]
  },
  {
   "cell_type": "code",
   "execution_count": 309,
   "metadata": {},
   "outputs": [],
   "source": [
    "#clf.fit(X_svm_VAL, y_svm_VAL)"
   ]
  },
  {
   "cell_type": "code",
   "execution_count": 310,
   "metadata": {},
   "outputs": [],
   "source": [
    "clf2 = svm.SVC(kernel='polynomial', C=1)"
   ]
  },
  {
   "cell_type": "code",
   "execution_count": 311,
   "metadata": {},
   "outputs": [],
   "source": [
    "#parameters={\"C\":[1,10],\"gamma\":(0.1,0.5,1,2)}\n",
    "#tuneclf=GridSearchCV(clf2,parameters,cv=5)\n",
    "#tuneclf.fit(X_svm_train, y_svm_train)\n",
    "#took too long"
   ]
  },
  {
   "cell_type": "code",
   "execution_count": 312,
   "metadata": {},
   "outputs": [],
   "source": [
    "#tuneclf.best_estimator_"
   ]
  },
  {
   "cell_type": "code",
   "execution_count": 313,
   "metadata": {},
   "outputs": [],
   "source": [
    "#tuneclf.best_score_"
   ]
  },
  {
   "cell_type": "code",
   "execution_count": 314,
   "metadata": {},
   "outputs": [],
   "source": [
    "#clf.fit(X_svm_train, y_svm_train)"
   ]
  },
  {
   "cell_type": "code",
   "execution_count": 315,
   "metadata": {},
   "outputs": [],
   "source": [
    "#clf2.fit(X_svm_VAL, y_svm_VAL)"
   ]
  },
  {
   "cell_type": "code",
   "execution_count": 316,
   "metadata": {},
   "outputs": [],
   "source": [
    "clf3 = svm.SVC(kernel='rbf', C=10, gamma=0.1)"
   ]
  },
  {
   "cell_type": "code",
   "execution_count": 317,
   "metadata": {},
   "outputs": [],
   "source": [
    "#parameters={\"C\":[1,10],\"gamma\":(0.1,0.5,1,2)}\n",
    "#tuneclf=GridSearchCV(clf3,parameters,cv=5)\n",
    "#tuneclf.fit(X_svm_train, y_svm_train)\n",
    "#took too long"
   ]
  },
  {
   "cell_type": "code",
   "execution_count": 318,
   "metadata": {},
   "outputs": [],
   "source": [
    "#tuneclf.best_estimator_"
   ]
  },
  {
   "cell_type": "code",
   "execution_count": 319,
   "metadata": {},
   "outputs": [],
   "source": [
    "#tuneclf.best_score_"
   ]
  },
  {
   "cell_type": "code",
   "execution_count": 320,
   "metadata": {
    "scrolled": true
   },
   "outputs": [],
   "source": [
    "#clf.fit(X_svm_train, y_svm_train)"
   ]
  },
  {
   "cell_type": "code",
   "execution_count": 321,
   "metadata": {},
   "outputs": [],
   "source": [
    "#clf3.fit(X_svm_VAL, y_svm_VAL)"
   ]
  },
  {
   "cell_type": "code",
   "execution_count": 322,
   "metadata": {
    "scrolled": true
   },
   "outputs": [],
   "source": [
    "#X_TEST_pred = clf.predict(X_svm_test)\n",
    "#X_TEST_pred"
   ]
  },
  {
   "cell_type": "code",
   "execution_count": 323,
   "metadata": {},
   "outputs": [],
   "source": [
    "#clf.score(X_svm_test, y_svm_test)"
   ]
  },
  {
   "cell_type": "code",
   "execution_count": 324,
   "metadata": {},
   "outputs": [],
   "source": [
    "#scores_res = model_selection.cross_val_score(clf,X2, y1, cv=5)\n",
    "#scores_res"
   ]
  },
  {
   "cell_type": "code",
   "execution_count": null,
   "metadata": {},
   "outputs": [],
   "source": [
    "#this was commented out because the grid search and fitting took too long."
   ]
  },
  {
   "cell_type": "code",
   "execution_count": null,
   "metadata": {},
   "outputs": [],
   "source": []
  },
  {
   "cell_type": "code",
   "execution_count": null,
   "metadata": {},
   "outputs": [],
   "source": []
  },
  {
   "cell_type": "code",
   "execution_count": null,
   "metadata": {},
   "outputs": [],
   "source": []
  },
  {
   "cell_type": "code",
   "execution_count": null,
   "metadata": {},
   "outputs": [],
   "source": []
  },
  {
   "cell_type": "code",
   "execution_count": 325,
   "metadata": {},
   "outputs": [],
   "source": [
    "#NEURAL NETWORKS"
   ]
  },
  {
   "cell_type": "code",
   "execution_count": 326,
   "metadata": {},
   "outputs": [],
   "source": [
    "X_NN = X_train.values\n",
    "y_NN = y_train.values\n",
    "X_NN_test = X_test.values\n",
    "y_NN_test = y_test.values"
   ]
  },
  {
   "cell_type": "code",
   "execution_count": 327,
   "metadata": {},
   "outputs": [],
   "source": [
    "X_NaN = np.ones(np.shape(X_NN))\n",
    "for i in range(10):\n",
    "    X_NaN[:,i] = X_NN[:,i] - X_NN[:,i].min()\n",
    "    X_NaN[:,i] = X_NaN[:,i] / X_NaN[:,i].max()"
   ]
  },
  {
   "cell_type": "code",
   "execution_count": 328,
   "metadata": {},
   "outputs": [],
   "source": [
    "X_NaN_test = np.ones(np.shape(X_NN_test))\n",
    "for i in range(10):\n",
    "    X_NaN_test[:,i] = X_NN_test[:,i] - X_NN_test[:,i].min()\n",
    "    X_NaN_test[:,i] = X_NaN_test[:,i] / X_NaN_test[:,i].max()"
   ]
  },
  {
   "cell_type": "code",
   "execution_count": 329,
   "metadata": {},
   "outputs": [
    {
     "data": {
      "text/plain": [
       "array([1, 1, 1, ..., 0, 0, 1])"
      ]
     },
     "execution_count": 329,
     "metadata": {},
     "output_type": "execute_result"
    }
   ],
   "source": [
    "X_NN_VAL=X_NaN[7000:]\n",
    "X_train_part=X_NaN[:7000]\n",
    "y_NN_VAL=y_NN[7000:]\n",
    "y_train_part=y_NN[:7000]\n",
    "#the val sets are to be used when evaluating each model and will not be used in the taining at all.\n",
    "#x train part and y train part are the sets to train the models.\n",
    "y_NN_VAL"
   ]
  },
  {
   "cell_type": "code",
   "execution_count": 349,
   "metadata": {},
   "outputs": [],
   "source": [
    "model = Sequential()\n",
    "model.add(Dense(10, input_dim=10, activation='relu'))\n",
    "model.add(Dense(100, activation='relu'))\n",
    "model.add(Dropout(0.05))\n",
    "model.add(Dense(45, activation='relu'))\n",
    "#model.add(Dropout(0.2))\n",
    "model.add(Dense(1, activation='sigmoid'))\n",
    "optimizer = keras.optimizers.Adam(lr=0.001)\n",
    "model.compile(optimizer=optimizer,loss='binary_crossentropy',metrics=['accuracy'])"
   ]
  },
  {
   "cell_type": "code",
   "execution_count": 331,
   "metadata": {},
   "outputs": [],
   "source": [
    "#batch_size=[10,20,40,60,80,100]\n",
    "#epochs=[10,50,100]\n",
    "#param_grid=dict(batch_size=batch_size, epochs=epochs)\n",
    "#grid = GridSearchCV(estimator=model, param_grid=parameter_grid, n_jobs=-1, cv=3)\n",
    "#grid_result=grid.fit(X_train_part, y_train_part)\n",
    "#print(\"Best: %f using %s\" % (grid_result.best_score_, grid_result.best_params_))\n",
    "#means = grid_result.cv_results_['mean_test_score']\n",
    "#stds = grid_result.cv_results_['std_test_score']\n",
    "#params = grid_result.cv_results_['params']\n",
    "#for mean, stdev, param in zip(means, stds, params):\n",
    "    #print(\"%f (%f) with: %r\" % (mean, stdev, param))\n",
    "    \n",
    "#GRID SEARCH FOR EPOCHS AND BATCH SIZE"
   ]
  },
  {
   "cell_type": "code",
   "execution_count": 350,
   "metadata": {
    "scrolled": true
   },
   "outputs": [
    {
     "name": "stdout",
     "output_type": "stream",
     "text": [
      "Train on 7000 samples, validate on 2000 samples\n",
      "Epoch 1/100\n",
      "7000/7000 [==============================] - 4s 629us/step - loss: 0.5398 - accuracy: 0.7280 - val_loss: 0.4474 - val_accuracy: 0.7935\n",
      "Epoch 2/100\n",
      "7000/7000 [==============================] - 2s 264us/step - loss: 0.4600 - accuracy: 0.7811 - val_loss: 0.4442 - val_accuracy: 0.7895\n",
      "Epoch 3/100\n",
      "7000/7000 [==============================] - 2s 260us/step - loss: 0.4445 - accuracy: 0.7899 - val_loss: 0.4098 - val_accuracy: 0.8130\n",
      "Epoch 4/100\n",
      "7000/7000 [==============================] - 2s 322us/step - loss: 0.4366 - accuracy: 0.7967 - val_loss: 0.4139 - val_accuracy: 0.8070\n",
      "Epoch 5/100\n",
      "7000/7000 [==============================] - 2s 306us/step - loss: 0.4299 - accuracy: 0.7997 - val_loss: 0.4015 - val_accuracy: 0.8175\n",
      "Epoch 6/100\n",
      "7000/7000 [==============================] - 2s 239us/step - loss: 0.4242 - accuracy: 0.8046 - val_loss: 0.4000 - val_accuracy: 0.8150\n",
      "Epoch 7/100\n",
      "7000/7000 [==============================] - 2s 236us/step - loss: 0.4193 - accuracy: 0.8091 - val_loss: 0.3923 - val_accuracy: 0.8235\n",
      "Epoch 8/100\n",
      "7000/7000 [==============================] - 2s 272us/step - loss: 0.4159 - accuracy: 0.8119 - val_loss: 0.3969 - val_accuracy: 0.8250\n",
      "Epoch 9/100\n",
      "7000/7000 [==============================] - 3s 382us/step - loss: 0.4093 - accuracy: 0.8153 - val_loss: 0.3890 - val_accuracy: 0.8270\n",
      "Epoch 10/100\n",
      "7000/7000 [==============================] - 3s 469us/step - loss: 0.4078 - accuracy: 0.8131 - val_loss: 0.3856 - val_accuracy: 0.8360\n",
      "Epoch 11/100\n",
      "7000/7000 [==============================] - 2s 313us/step - loss: 0.4049 - accuracy: 0.8163 - val_loss: 0.3837 - val_accuracy: 0.8385\n",
      "Epoch 12/100\n",
      "7000/7000 [==============================] - 2s 259us/step - loss: 0.4047 - accuracy: 0.8169 - val_loss: 0.3837 - val_accuracy: 0.8360\n",
      "Epoch 13/100\n",
      "7000/7000 [==============================] - 2s 310us/step - loss: 0.4035 - accuracy: 0.8213 - val_loss: 0.3846 - val_accuracy: 0.8355\n",
      "Epoch 14/100\n",
      "7000/7000 [==============================] - 2s 330us/step - loss: 0.4039 - accuracy: 0.8164 - val_loss: 0.3890 - val_accuracy: 0.8300\n",
      "Epoch 15/100\n",
      "7000/7000 [==============================] - 2s 281us/step - loss: 0.3960 - accuracy: 0.8204 - val_loss: 0.3765 - val_accuracy: 0.8395\n",
      "Epoch 16/100\n",
      "7000/7000 [==============================] - 2s 283us/step - loss: 0.3972 - accuracy: 0.8217 - val_loss: 0.3802 - val_accuracy: 0.8380\n",
      "Epoch 17/100\n",
      "7000/7000 [==============================] - 2s 258us/step - loss: 0.3956 - accuracy: 0.8220 - val_loss: 0.3742 - val_accuracy: 0.8410\n",
      "Epoch 18/100\n",
      "7000/7000 [==============================] - 2s 237us/step - loss: 0.3975 - accuracy: 0.8210 - val_loss: 0.3750 - val_accuracy: 0.8415\n",
      "Epoch 19/100\n",
      "7000/7000 [==============================] - 2s 232us/step - loss: 0.3902 - accuracy: 0.8243 - val_loss: 0.3846 - val_accuracy: 0.8280\n",
      "Epoch 20/100\n",
      "7000/7000 [==============================] - 2s 271us/step - loss: 0.3919 - accuracy: 0.8264 - val_loss: 0.3794 - val_accuracy: 0.8315\n",
      "Epoch 21/100\n",
      "7000/7000 [==============================] - 2s 252us/step - loss: 0.3915 - accuracy: 0.8234 - val_loss: 0.3808 - val_accuracy: 0.8370\n",
      "Epoch 22/100\n",
      "7000/7000 [==============================] - 2s 252us/step - loss: 0.3855 - accuracy: 0.8291 - val_loss: 0.3756 - val_accuracy: 0.8350\n",
      "Epoch 23/100\n",
      "7000/7000 [==============================] - 2s 350us/step - loss: 0.3871 - accuracy: 0.8261 - val_loss: 0.3687 - val_accuracy: 0.8450\n",
      "Epoch 24/100\n",
      "7000/7000 [==============================] - 2s 238us/step - loss: 0.3882 - accuracy: 0.8260 - val_loss: 0.3746 - val_accuracy: 0.8365\n",
      "Epoch 25/100\n",
      "7000/7000 [==============================] - 2s 242us/step - loss: 0.3855 - accuracy: 0.8253 - val_loss: 0.3846 - val_accuracy: 0.8245\n",
      "Epoch 26/100\n",
      "7000/7000 [==============================] - 2s 272us/step - loss: 0.3876 - accuracy: 0.8237 - val_loss: 0.3709 - val_accuracy: 0.8415\n",
      "Epoch 27/100\n",
      "7000/7000 [==============================] - 2s 320us/step - loss: 0.3801 - accuracy: 0.8301 - val_loss: 0.3866 - val_accuracy: 0.8260\n",
      "Epoch 28/100\n",
      "7000/7000 [==============================] - 2s 291us/step - loss: 0.3801 - accuracy: 0.8317 - val_loss: 0.3696 - val_accuracy: 0.8415\n",
      "Epoch 29/100\n",
      "7000/7000 [==============================] - 2s 280us/step - loss: 0.3820 - accuracy: 0.8286 - val_loss: 0.3661 - val_accuracy: 0.8400\n",
      "Epoch 30/100\n",
      "7000/7000 [==============================] - 2s 270us/step - loss: 0.3796 - accuracy: 0.8306 - val_loss: 0.3707 - val_accuracy: 0.8440\n",
      "Epoch 31/100\n",
      "7000/7000 [==============================] - 2s 267us/step - loss: 0.3767 - accuracy: 0.8316 - val_loss: 0.3692 - val_accuracy: 0.8445\n",
      "Epoch 32/100\n",
      "7000/7000 [==============================] - 2s 239us/step - loss: 0.3790 - accuracy: 0.8286 - val_loss: 0.3731 - val_accuracy: 0.8435\n",
      "Epoch 33/100\n",
      "7000/7000 [==============================] - 2s 260us/step - loss: 0.3770 - accuracy: 0.8346 - val_loss: 0.3669 - val_accuracy: 0.8445\n",
      "Epoch 34/100\n",
      "7000/7000 [==============================] - 2s 292us/step - loss: 0.3767 - accuracy: 0.8333 - val_loss: 0.3963 - val_accuracy: 0.8155\n",
      "Epoch 35/100\n",
      "7000/7000 [==============================] - 2s 261us/step - loss: 0.3745 - accuracy: 0.8334 - val_loss: 0.3607 - val_accuracy: 0.8440\n",
      "Epoch 36/100\n",
      "7000/7000 [==============================] - 2s 276us/step - loss: 0.3747 - accuracy: 0.8327 - val_loss: 0.3612 - val_accuracy: 0.8430\n",
      "Epoch 37/100\n",
      "7000/7000 [==============================] - 2s 258us/step - loss: 0.3759 - accuracy: 0.8277 - val_loss: 0.3923 - val_accuracy: 0.8240\n",
      "Epoch 38/100\n",
      "7000/7000 [==============================] - 2s 250us/step - loss: 0.3711 - accuracy: 0.8333 - val_loss: 0.3617 - val_accuracy: 0.8430\n",
      "Epoch 39/100\n",
      "7000/7000 [==============================] - 2s 293us/step - loss: 0.3731 - accuracy: 0.8349 - val_loss: 0.3706 - val_accuracy: 0.8340\n",
      "Epoch 40/100\n",
      "7000/7000 [==============================] - 2s 267us/step - loss: 0.3728 - accuracy: 0.8330 - val_loss: 0.3624 - val_accuracy: 0.8445\n",
      "Epoch 41/100\n",
      "7000/7000 [==============================] - 2s 275us/step - loss: 0.3700 - accuracy: 0.8333 - val_loss: 0.3607 - val_accuracy: 0.8440\n",
      "Epoch 42/100\n",
      "7000/7000 [==============================] - 2s 263us/step - loss: 0.3709 - accuracy: 0.8314 - val_loss: 0.3632 - val_accuracy: 0.8375\n",
      "Epoch 43/100\n",
      "7000/7000 [==============================] - 2s 263us/step - loss: 0.3691 - accuracy: 0.8324 - val_loss: 0.3580 - val_accuracy: 0.8435\n",
      "Epoch 44/100\n",
      "7000/7000 [==============================] - 2s 282us/step - loss: 0.3681 - accuracy: 0.8349 - val_loss: 0.3598 - val_accuracy: 0.8410\n",
      "Epoch 45/100\n",
      "7000/7000 [==============================] - 3s 404us/step - loss: 0.3682 - accuracy: 0.8339 - val_loss: 0.3566 - val_accuracy: 0.8470\n",
      "Epoch 46/100\n",
      "7000/7000 [==============================] - 2s 294us/step - loss: 0.3705 - accuracy: 0.8311 - val_loss: 0.3625 - val_accuracy: 0.8405\n",
      "Epoch 47/100\n",
      "7000/7000 [==============================] - 2s 298us/step - loss: 0.3677 - accuracy: 0.8369 - val_loss: 0.3578 - val_accuracy: 0.8465\n",
      "Epoch 48/100\n",
      "7000/7000 [==============================] - 2s 277us/step - loss: 0.3705 - accuracy: 0.8307 - val_loss: 0.3538 - val_accuracy: 0.8445\n",
      "Epoch 49/100\n",
      "7000/7000 [==============================] - 2s 270us/step - loss: 0.3658 - accuracy: 0.8373 - val_loss: 0.3562 - val_accuracy: 0.8480\n",
      "Epoch 50/100\n",
      "7000/7000 [==============================] - 2s 256us/step - loss: 0.3653 - accuracy: 0.8351 - val_loss: 0.3576 - val_accuracy: 0.8460\n",
      "Epoch 51/100\n",
      "7000/7000 [==============================] - 2s 334us/step - loss: 0.3667 - accuracy: 0.8354 - val_loss: 0.3559 - val_accuracy: 0.8485\n",
      "Epoch 52/100\n",
      "7000/7000 [==============================] - 2s 301us/step - loss: 0.3610 - accuracy: 0.8393 - val_loss: 0.3608 - val_accuracy: 0.8390\n",
      "Epoch 53/100\n",
      "7000/7000 [==============================] - 2s 287us/step - loss: 0.3646 - accuracy: 0.8377 - val_loss: 0.3540 - val_accuracy: 0.8495\n",
      "Epoch 54/100\n",
      "7000/7000 [==============================] - 2s 327us/step - loss: 0.3619 - accuracy: 0.8371 - val_loss: 0.3513 - val_accuracy: 0.8460\n",
      "Epoch 55/100\n",
      "7000/7000 [==============================] - 2s 278us/step - loss: 0.3616 - accuracy: 0.8393 - val_loss: 0.3531 - val_accuracy: 0.8515\n",
      "Epoch 56/100\n",
      "7000/7000 [==============================] - 2s 284us/step - loss: 0.3618 - accuracy: 0.8389 - val_loss: 0.3580 - val_accuracy: 0.8405\n",
      "Epoch 57/100\n",
      "7000/7000 [==============================] - 2s 289us/step - loss: 0.3628 - accuracy: 0.8369 - val_loss: 0.3724 - val_accuracy: 0.8375\n",
      "Epoch 58/100\n",
      "7000/7000 [==============================] - 2s 276us/step - loss: 0.3610 - accuracy: 0.8390 - val_loss: 0.3530 - val_accuracy: 0.8435\n",
      "Epoch 59/100\n",
      "7000/7000 [==============================] - 2s 268us/step - loss: 0.3612 - accuracy: 0.8379 - val_loss: 0.3504 - val_accuracy: 0.8525\n",
      "Epoch 60/100\n",
      "7000/7000 [==============================] - 2s 248us/step - loss: 0.3607 - accuracy: 0.8371 - val_loss: 0.3547 - val_accuracy: 0.8470\n",
      "Epoch 61/100\n",
      "7000/7000 [==============================] - 2s 250us/step - loss: 0.3612 - accuracy: 0.8367 - val_loss: 0.3505 - val_accuracy: 0.8470\n",
      "Epoch 62/100\n",
      "7000/7000 [==============================] - 2s 252us/step - loss: 0.3584 - accuracy: 0.8397 - val_loss: 0.3488 - val_accuracy: 0.8550\n",
      "Epoch 63/100\n",
      "7000/7000 [==============================] - 2s 229us/step - loss: 0.3616 - accuracy: 0.8391 - val_loss: 0.3462 - val_accuracy: 0.8490\n",
      "Epoch 64/100\n",
      "7000/7000 [==============================] - 2s 233us/step - loss: 0.3556 - accuracy: 0.8443 - val_loss: 0.3520 - val_accuracy: 0.8505\n",
      "Epoch 65/100\n",
      "7000/7000 [==============================] - 2s 249us/step - loss: 0.3597 - accuracy: 0.8387 - val_loss: 0.3525 - val_accuracy: 0.8495\n",
      "Epoch 66/100\n",
      "7000/7000 [==============================] - 2s 240us/step - loss: 0.3578 - accuracy: 0.8423 - val_loss: 0.3589 - val_accuracy: 0.8420\n",
      "Epoch 67/100\n",
      "7000/7000 [==============================] - 2s 230us/step - loss: 0.3566 - accuracy: 0.8403 - val_loss: 0.4026 - val_accuracy: 0.8110\n",
      "Epoch 68/100\n",
      "7000/7000 [==============================] - 2s 252us/step - loss: 0.3594 - accuracy: 0.8406 - val_loss: 0.3465 - val_accuracy: 0.8465\n",
      "Epoch 69/100\n",
      "7000/7000 [==============================] - 2s 248us/step - loss: 0.3559 - accuracy: 0.8421 - val_loss: 0.3518 - val_accuracy: 0.8435\n",
      "Epoch 70/100\n",
      "7000/7000 [==============================] - 2s 254us/step - loss: 0.3561 - accuracy: 0.8444 - val_loss: 0.3457 - val_accuracy: 0.8525\n",
      "Epoch 71/100\n",
      "7000/7000 [==============================] - 2s 265us/step - loss: 0.3539 - accuracy: 0.8449 - val_loss: 0.3465 - val_accuracy: 0.8470\n",
      "Epoch 72/100\n",
      "7000/7000 [==============================] - 2s 250us/step - loss: 0.3526 - accuracy: 0.8433 - val_loss: 0.3511 - val_accuracy: 0.8440\n",
      "Epoch 73/100\n",
      "7000/7000 [==============================] - 2s 235us/step - loss: 0.3543 - accuracy: 0.8401 - val_loss: 0.3436 - val_accuracy: 0.8545\n",
      "Epoch 74/100\n",
      "7000/7000 [==============================] - 2s 240us/step - loss: 0.3534 - accuracy: 0.8396 - val_loss: 0.3698 - val_accuracy: 0.8405\n",
      "Epoch 75/100\n",
      "7000/7000 [==============================] - 2s 239us/step - loss: 0.3504 - accuracy: 0.8446 - val_loss: 0.3456 - val_accuracy: 0.8420\n",
      "Epoch 76/100\n",
      "7000/7000 [==============================] - 2s 254us/step - loss: 0.3530 - accuracy: 0.8426 - val_loss: 0.3439 - val_accuracy: 0.8550\n",
      "Epoch 77/100\n",
      "7000/7000 [==============================] - 2s 278us/step - loss: 0.3535 - accuracy: 0.8419 - val_loss: 0.3434 - val_accuracy: 0.8500\n",
      "Epoch 78/100\n",
      "7000/7000 [==============================] - 2s 286us/step - loss: 0.3511 - accuracy: 0.8426 - val_loss: 0.3451 - val_accuracy: 0.8535\n",
      "Epoch 79/100\n",
      "7000/7000 [==============================] - 2s 243us/step - loss: 0.3544 - accuracy: 0.8447 - val_loss: 0.3452 - val_accuracy: 0.8525\n",
      "Epoch 80/100\n",
      "7000/7000 [==============================] - 2s 252us/step - loss: 0.3482 - accuracy: 0.8427 - val_loss: 0.3657 - val_accuracy: 0.8415\n",
      "Epoch 81/100\n",
      "7000/7000 [==============================] - 2s 270us/step - loss: 0.3498 - accuracy: 0.8401 - val_loss: 0.3450 - val_accuracy: 0.8465\n",
      "Epoch 82/100\n",
      "7000/7000 [==============================] - 2s 258us/step - loss: 0.3484 - accuracy: 0.8431 - val_loss: 0.3422 - val_accuracy: 0.8495\n",
      "Epoch 83/100\n",
      "7000/7000 [==============================] - 2s 245us/step - loss: 0.3486 - accuracy: 0.8447 - val_loss: 0.3486 - val_accuracy: 0.8500\n",
      "Epoch 84/100\n",
      "7000/7000 [==============================] - 2s 251us/step - loss: 0.3485 - accuracy: 0.8443 - val_loss: 0.3441 - val_accuracy: 0.8585\n",
      "Epoch 85/100\n",
      "7000/7000 [==============================] - 2s 249us/step - loss: 0.3497 - accuracy: 0.8431 - val_loss: 0.3612 - val_accuracy: 0.8415\n",
      "Epoch 86/100\n",
      "7000/7000 [==============================] - 2s 267us/step - loss: 0.3482 - accuracy: 0.8444 - val_loss: 0.3602 - val_accuracy: 0.8415\n",
      "Epoch 87/100\n",
      "7000/7000 [==============================] - 2s 253us/step - loss: 0.3458 - accuracy: 0.8457 - val_loss: 0.3398 - val_accuracy: 0.8505\n",
      "Epoch 88/100\n",
      "7000/7000 [==============================] - 2s 252us/step - loss: 0.3444 - accuracy: 0.8487 - val_loss: 0.3444 - val_accuracy: 0.8500\n",
      "Epoch 89/100\n",
      "7000/7000 [==============================] - 2s 240us/step - loss: 0.3471 - accuracy: 0.8463 - val_loss: 0.3406 - val_accuracy: 0.8560\n",
      "Epoch 90/100\n",
      "7000/7000 [==============================] - 2s 258us/step - loss: 0.3439 - accuracy: 0.8487 - val_loss: 0.3391 - val_accuracy: 0.8540\n",
      "Epoch 91/100\n",
      "7000/7000 [==============================] - 2s 324us/step - loss: 0.3469 - accuracy: 0.8449 - val_loss: 0.3411 - val_accuracy: 0.8545\n",
      "Epoch 92/100\n",
      "7000/7000 [==============================] - 2s 282us/step - loss: 0.3439 - accuracy: 0.8461 - val_loss: 0.3662 - val_accuracy: 0.8340\n",
      "Epoch 93/100\n",
      "7000/7000 [==============================] - 2s 279us/step - loss: 0.3437 - accuracy: 0.8477 - val_loss: 0.3405 - val_accuracy: 0.8515\n",
      "Epoch 94/100\n",
      "7000/7000 [==============================] - 2s 349us/step - loss: 0.3451 - accuracy: 0.8476 - val_loss: 0.3458 - val_accuracy: 0.8540\n",
      "Epoch 95/100\n",
      "7000/7000 [==============================] - 2s 324us/step - loss: 0.3449 - accuracy: 0.8427 - val_loss: 0.3441 - val_accuracy: 0.8510\n",
      "Epoch 96/100\n",
      "7000/7000 [==============================] - 2s 322us/step - loss: 0.3459 - accuracy: 0.8479 - val_loss: 0.3440 - val_accuracy: 0.8500\n",
      "Epoch 97/100\n",
      "7000/7000 [==============================] - 2s 309us/step - loss: 0.3412 - accuracy: 0.8481 - val_loss: 0.3374 - val_accuracy: 0.8535\n",
      "Epoch 98/100\n",
      "7000/7000 [==============================] - 2s 329us/step - loss: 0.3447 - accuracy: 0.8464 - val_loss: 0.3447 - val_accuracy: 0.8505\n",
      "Epoch 99/100\n",
      "7000/7000 [==============================] - 2s 294us/step - loss: 0.3424 - accuracy: 0.8467 - val_loss: 0.3482 - val_accuracy: 0.8470\n",
      "Epoch 100/100\n",
      "7000/7000 [==============================] - 2s 294us/step - loss: 0.3432 - accuracy: 0.8441 - val_loss: 0.3492 - val_accuracy: 0.8540\n"
     ]
    }
   ],
   "source": [
    "history=model.fit(X_train_part, y_train_part, epochs=100, batch_size=20, validation_data=(X_NN_VAL,y_NN_VAL))"
   ]
  },
  {
   "cell_type": "code",
   "execution_count": 353,
   "metadata": {},
   "outputs": [],
   "source": [
    "loss=history.history[\"loss\"]\n",
    "acc=history.history[\"accuracy\"]\n",
    "val_loss=history.history[\"val_loss\"]\n",
    "val_acc=history.history[\"val_accuracy\"]\n",
    "epochs=range(1,len(acc)+1)"
   ]
  },
  {
   "cell_type": "code",
   "execution_count": 354,
   "metadata": {
    "scrolled": false
   },
   "outputs": [
    {
     "data": {
      "image/png": "[encoded data removed]",
      "text/plain": [
       "<Figure size 576x396 with 1 Axes>"
      ]
     },
     "metadata": {},
     "output_type": "display_data"
    }
   ],
   "source": [
    "plt.plot(epochs,acc,\"b\",label=\"Training accuracy\") \n",
    "plt.plot(epochs,val_acc,\"r\",label=\"Validation accuracy\") \n",
    "plt.title(\"Training and validation accuracy\") \n",
    "plt.xlabel(\"Epochs\")\n",
    "plt.ylabel(\"Accuracy\")\n",
    "plt.legend()\n",
    "plt.savefig('accuracy_val.png')"
   ]
  },
  {
   "cell_type": "code",
   "execution_count": 351,
   "metadata": {},
   "outputs": [
    {
     "name": "stdout",
     "output_type": "stream",
     "text": [
      "1000/1000 [==============================] - 0s 78us/step\n",
      "Test accuracy: 0.796999990940094\n"
     ]
    }
   ],
   "source": [
    "test_loss, test_acc = model.evaluate(X_NaN_test, y_NN_test)\n",
    "print('Test accuracy:', test_acc)"
   ]
  },
  {
   "cell_type": "code",
   "execution_count": null,
   "metadata": {},
   "outputs": [],
   "source": []
  },
  {
   "cell_type": "code",
   "execution_count": null,
   "metadata": {},
   "outputs": [],
   "source": []
  },
  {
   "cell_type": "code",
   "execution_count": null,
   "metadata": {},
   "outputs": [],
   "source": []
  }
 ],
 "metadata": {
  "kernelspec": {
   "display_name": "Python 3",
   "language": "python",
   "name": "python3"
  },
  "language_info": {
   "codemirror_mode": {
    "name": "ipython",
    "version": 3
   },
   "file_extension": ".py",
   "mimetype": "text/x-python",
   "name": "python",
   "nbconvert_exporter": "python",
   "pygments_lexer": "ipython3",
   "version": "3.9.2"
  }
 },
 "nbformat": 4,
 "nbformat_minor": 4
}
